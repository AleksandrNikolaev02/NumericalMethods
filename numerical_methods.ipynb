{
  "nbformat": 4,
  "nbformat_minor": 0,
  "metadata": {
    "colab": {
      "provenance": [],
      "authorship_tag": "ABX9TyNjGUf7cpoXAHG9ROgfCF+i",
      "include_colab_link": true
    },
    "kernelspec": {
      "name": "python3",
      "display_name": "Python 3"
    },
    "language_info": {
      "name": "python"
    }
  },
  "cells": [
    {
      "cell_type": "markdown",
      "metadata": {
        "id": "view-in-github",
        "colab_type": "text"
      },
      "source": [
        "<a href=\"https://colab.research.google.com/github/AleksandrNikolaev02/NumericalMethods/blob/main/numerical_methods.ipynb\" target=\"_parent\"><img src=\"https://colab.research.google.com/assets/colab-badge.svg\" alt=\"Open In Colab\"/></a>"
      ]
    },
    {
      "cell_type": "markdown",
      "source": [
        "Работу выполнил: Николаев Александр Юрьевич\n",
        "\n",
      ],
      "metadata": {
        "id": "Czk3K2I3WglH"
      }
    },
    {
      "cell_type": "markdown",
      "source": [
        "# Задание 1."
      ],
      "metadata": {
        "id": "MToTnVAJMpl7"
      }
    },
    {
      "cell_type": "markdown",
      "source": [
        "Подключим необходимые нам библиотеки."
      ],
      "metadata": {
        "id": "NJGnK3_hhFBb"
      }
    },
    {
      "cell_type": "code",
      "execution_count": null,
      "metadata": {
        "id": "TgmkIUv9JKHs"
      },
      "outputs": [],
      "source": [
        "from math import cos, sqrt, e, sin, tan\n",
        "import numpy as np\n",
        "import matplotlib.pyplot as plt\n",
        "import pandas as pd"
      ]
    },
    {
      "cell_type": "markdown",
      "source": [
        "Запишем наше уравнение в виде функции."
      ],
      "metadata": {
        "id": "Gf1Gu844hTLc"
      }
    },
    {
      "cell_type": "code",
      "source": [
        "def func(x, y):\n",
        "    return y**(-x) - tan(x*y**2)"
      ],
      "metadata": {
        "id": "0fsmCeZpJUpP"
      },
      "execution_count": null,
      "outputs": []
    },
    {
      "cell_type": "markdown",
      "source": [
        "Реализуем метод Эйлера для решения дифференциального уравнения 1 порядка с потоянным шагом."
      ],
      "metadata": {
        "id": "7yLqUCSJhbWe"
      }
    },
    {
      "cell_type": "code",
      "source": [
        "def Euler(y0, x0, xk, h, Nmax, func, p=1):\n",
        "    N = int((xk - x0) / h) + 1\n",
        "    xi = np.zeros(N, dtype=float)\n",
        "    yi = np.zeros(N, dtype=float)\n",
        "    hi = np.zeros(N, dtype=float)\n",
        "    _yi_ = np.zeros(N, dtype=float)\n",
        "    y_max = np.zeros(N, dtype=float)\n",
        "    xi[0] = x0\n",
        "    yi[0] = y0\n",
        "    hi[0] = h\n",
        "    _yi_[0] = y0\n",
        "    y_max[0] = 0\n",
        "    counter = 0\n",
        "    for i in range(1, N):\n",
        "        xi[i] = xi[i-1] + h\n",
        "        yi[i] = yi[i-1] + h * func(xi[i-1], yi[i-1])\n",
        "        hi[i] = h\n",
        "        h_new = h/2\n",
        "        x_new = xi[i-1] + h_new\n",
        "        y_new = yi[i-1] + h_new * func(xi[i-1], yi[i-1])\n",
        "        _yi_[i] = y_new + h_new * func(x_new, y_new)\n",
        "        y_max[i] = abs(yi[i] - _yi_[i])\n",
        "        counter += 1\n",
        "    dict = {'xi':xi, 'hi':hi, 'yi':yi, '^yi':_yi_, '|yi - ^yi|':y_max}\n",
        "    print(\"Справка:\")\n",
        "    print(f\"Условие задачи: y({x0})={y0} на интервале [{x0}, {xk}]\")\n",
        "    print(f\"Количество интераций: {counter}\")\n",
        "    print(f\"Максимальное значение погрешности: {max(y_max)}\")\n",
        "    print()\n",
        "    print(pd.DataFrame(dict))\n",
        "    print()\n",
        "    print(\"График нашего решения: \")\n",
        "    plt.plot(xi, yi, label=\"Метод Эйлера\")\n",
        "    plt.plot(xi, _yi_, label=\"Усовершенствованный метод Эйлера\")\n",
        "    plt.legend()\n",
        "    plt.show()\n",
        "    return xi, yi"
      ],
      "metadata": {
        "id": "rLd6atyGJYI7"
      },
      "execution_count": null,
      "outputs": []
    },
    {
      "cell_type": "markdown",
      "source": [
        "Реализуем метод Рунге-Кутты 2 порядка точности для решения дифференциального уравнения 1 порядка с постоянным шагом."
      ],
      "metadata": {
        "id": "U5fNswnehpbO"
      }
    },
    {
      "cell_type": "code",
      "source": [
        "def Runge_Kutta(y0, x0, xk, h, Nmax, func, p=2):\n",
        "  xi = []\n",
        "  yi = []\n",
        "  hi = []\n",
        "  _yi_ = []\n",
        "  y_max = []\n",
        "  yi.append(y0)\n",
        "  _yi_.append(y0)\n",
        "  y_max.append(0)\n",
        "  xi.append(x0)\n",
        "  hi.append(h)\n",
        "\n",
        "  i = 1\n",
        "  summa = x0\n",
        "  iter = 0\n",
        "  while(summa <= xk):\n",
        "    if(xi[i-1] + h + 0.000001 > xk):\n",
        "      xi.append(xi[i-1] + h)\n",
        "      hi.append(h)\n",
        "      y = yi[i-1] + h/2 * (func(xi[i-1], yi[i-1]) + func(xi[i], yi[i-1] + h*func(xi[i-1], yi[i-1])))\n",
        "      yi.append(y)\n",
        "      h_new = h/2\n",
        "      xi_new = xi[i-1] + h_new\n",
        "      yi_new = yi[i-1] + h_new/2 * (func(xi[i-1], yi[i-1]) + func(xi[i-1] + h_new, yi[i-1] + h_new * func(xi[i-1], yi[i-1])))\n",
        "      _yi_.append(yi_new + h_new/2 * (func(xi_new, yi_new) + func(xi_new + h_new, yi_new + h_new * func(xi_new, yi_new))))\n",
        "      y_max.append(abs(yi[i] - _yi_[i]))\n",
        "      iter += 1\n",
        "      break\n",
        "\n",
        "    xi.append(xi[i-1] + h)\n",
        "    hi.append(h)\n",
        "    y = yi[i-1] + h/2 * (func(xi[i-1], yi[i-1]) + func(xi[i], yi[i-1] + h*func(xi[i-1], yi[i-1])))\n",
        "    yi.append(y)\n",
        "\n",
        "    #Считаем погрешность и разницу \n",
        "    h_new = h/2\n",
        "    xi_new = xi[i-1] + h_new\n",
        "    yi_new = yi[i-1] + h_new/2 * (func(xi[i-1], yi[i-1]) + func(xi[i-1] + h_new, yi[i-1] + h_new * func(xi[i-1], yi[i-1])))\n",
        "    _yi_.append(yi_new + h_new/2 * (func(xi_new, yi_new) + func(xi_new + h_new, yi_new + h_new * func(xi_new, yi_new))))\n",
        "    y_max.append(abs(yi[i] - _yi_[i]))\n",
        "\n",
        "    if(iter == Nmax):\n",
        "      break\n",
        "    summa += h\n",
        "    i += 1\n",
        "    iter += 1\n",
        "  \n",
        "  dict = {'xi':xi, 'hi':hi, 'yi':yi, '^yi':_yi_, '|yi - ^yi|':y_max}\n",
        "  print(\"Справка:\")\n",
        "  print(f\"Условие задачи: y({x0})={y0} на интервале [{x0}, {xk}]\")\n",
        "  print(f\"Количество интераций: {iter}\")\n",
        "  print(f\"Максимальное значение погрешности: {max(y_max)}\")\n",
        "  print()\n",
        "  print(pd.DataFrame(dict))\n",
        "  print()\n",
        "  print(\"График нашего решения: \")\n",
        "\n",
        "  plt.plot(xi, yi, label=\"Метод Рунге-Кутты 2 порядка\")\n",
        "  plt.plot(xi, _yi_, label=\"Улучшенный метод Рунге-Кутты 2 порядка\")\n",
        "  plt.legend()\n",
        "  plt.show()\n",
        "  return xi, yi"
      ],
      "metadata": {
        "id": "tyd2l3Tzh1MW"
      },
      "execution_count": null,
      "outputs": []
    },
    {
      "cell_type": "markdown",
      "source": [
        "Реализуем метод Рунге-Кутты 4 порядка точности для решения дифференциального уравнения 1 порядка с постоянным шагом."
      ],
      "metadata": {
        "id": "S-pH2hSk4gzl"
      }
    },
    {
      "cell_type": "code",
      "source": [
        "def Runge_Kutta_4(y0, x0, xk, h, Nmax, func, p=4):\n",
        "  xi = []\n",
        "  yi = []\n",
        "  hi = []\n",
        "  _yi_ = []\n",
        "  y_max = []\n",
        "  yi.append(y0)\n",
        "  _yi_.append(y0)\n",
        "  y_max.append(0)\n",
        "  xi.append(x0)\n",
        "  hi.append(h)\n",
        "\n",
        "  i = 1\n",
        "  summa = x0\n",
        "  iter = 0\n",
        "  while(summa <= xk):\n",
        "    if(xi[i-1] + h + 0.000001 > xk):\n",
        "      xi.append(xi[i-1] + h)\n",
        "      hi.append(h)\n",
        "      k1 = func(xi[i-1], yi[i-1])\n",
        "      k2 = func(xi[i-1] + h/2, yi[i-1] + h/2*k1)\n",
        "      k3 = func(xi[i-1] + h/2, yi[i-1] + h/2*k2)\n",
        "      k4 = func(xi[i-1] + h, yi[i-1] + h*k3)\n",
        "      y = yi[i-1] + h/6*(k1 + 2*k2 + 2*k3 + k4)\n",
        "      yi.append(y)\n",
        "      h_new = h/2\n",
        "      xi_new = xi[i-1] + h_new\n",
        "      k1 = func(xi[i-1], yi[i-1])\n",
        "      k2 = func(xi[i-1] + h_new/2, yi[i-1] + h_new/2*k1)\n",
        "      k3 = func(xi[i-1] + h_new/2, yi[i-1] + h_new/2*k2)\n",
        "      k4 = func(xi[i-1] + h_new, yi[i-1] + h_new*k3)\n",
        "      yi_new = yi[i-1] + h_new/6*(k1 + 2*k2 + 2*k3 + k4)\n",
        "      k1 = func(xi_new, yi_new)\n",
        "      k2 = func(xi_new + h_new/2, yi_new + h_new/2*k1)\n",
        "      k3 = func(xi_new + h_new/2, yi_new + h_new/2*k2)\n",
        "      k4 = func(xi_new + h_new, yi_new + h_new*k3)\n",
        "      _yi_.append(yi_new + h_new/6*(k1 + 2*k2 + 2*k3 + k4))\n",
        "      y_max.append(abs(yi[i] - _yi_[i]))\n",
        "      iter += 1\n",
        "      break\n",
        "    \n",
        "    xi.append(xi[i-1] + h)\n",
        "    hi.append(h)\n",
        "    k1 = func(xi[i-1], yi[i-1])\n",
        "    k2 = func(xi[i-1] + h/2, yi[i-1] + h/2*k1)\n",
        "    k3 = func(xi[i-1] + h/2, yi[i-1] + h/2*k2)\n",
        "    k4 = func(xi[i-1] + h, yi[i-1] + h*k3)\n",
        "\n",
        "    y = yi[i-1] + h/6*(k1 + 2*k2 + 2*k3 + k4)\n",
        "    yi.append(y)\n",
        "\n",
        "    #Считаем погрешность и разницу \n",
        "    h_new = h/2\n",
        "    xi_new = xi[i-1] + h_new\n",
        "    k1 = func(xi[i-1], yi[i-1])\n",
        "    k2 = func(xi[i-1] + h_new/2, yi[i-1] + h_new/2*k1)\n",
        "    k3 = func(xi[i-1] + h_new/2, yi[i-1] + h_new/2*k2)\n",
        "    k4 = func(xi[i-1] + h_new, yi[i-1] + h_new*k3)\n",
        "    yi_new = yi[i-1] + h_new/6*(k1 + 2*k2 + 2*k3 + k4)\n",
        "    k1 = func(xi_new, yi_new)\n",
        "    k2 = func(xi_new + h_new/2, yi_new + h_new/2*k1)\n",
        "    k3 = func(xi_new + h_new/2, yi_new + h_new/2*k2)\n",
        "    k4 = func(xi_new + h_new, yi_new + h_new*k3)\n",
        "    _yi_.append(yi_new + h_new/6*(k1 + 2*k2 + 2*k3 + k4))\n",
        "    y_max.append(abs(yi[i] - _yi_[i]))\n",
        "\n",
        "    if(iter == Nmax):\n",
        "      break\n",
        "    summa += h\n",
        "    i += 1\n",
        "    iter += 1\n",
        "  \n",
        "  dict = {'xi':xi, 'hi':hi, 'yi':yi, '^yi':_yi_, '|yi - ^yi|':y_max}\n",
        "  print(\"Справка:\")\n",
        "  print(f\"Условие задачи: y({x0})={y0} на интервале [{x0}, {xk}]\")\n",
        "  print(f\"Количество интераций: {iter}\")\n",
        "  print(f\"Максимальное значение погрешности: {max(y_max)}\")\n",
        "  print()\n",
        "  print(pd.DataFrame(dict))\n",
        "  print()\n",
        "  print(\"График нашего решения: \")\n",
        "\n",
        "  plt.plot(xi, yi, label=\"Метод Рунге-Кутты 4 порядка\")\n",
        "  plt.plot(xi, _yi_, label=\"Улучшенный метод Рунге-Кутты 4 порядка\")\n",
        "  plt.legend()\n",
        "  plt.show()\n",
        "  return xi, yi"
      ],
      "metadata": {
        "id": "63ESzMMn4jnA"
      },
      "execution_count": null,
      "outputs": []
    },
    {
      "cell_type": "markdown",
      "source": [
        "Реализуем метод Адамса 4 порядка для решения дифференциального уравнения 1 порядка с потоянным шагом."
      ],
      "metadata": {
        "id": "_fHV3_jWwk8Y"
      }
    },
    {
      "cell_type": "code",
      "source": [
        "def Adams(y0, x0, xk, h, Nmax, func, p=4):\n",
        "  xi = []\n",
        "  yi = []\n",
        "  hi = []\n",
        "  _yi_ = []\n",
        "  y_max = []\n",
        "  yi.append(y0)\n",
        "  _yi_.append(y0)\n",
        "  y_max.append(0)\n",
        "  xi.append(x0)\n",
        "  hi.append(h)\n",
        "\n",
        "\n",
        "  i = 1\n",
        "  summa = x0\n",
        "  iter = 0\n",
        "\n",
        "  #Первые 3 значения считаем по методу Рунге-Кутты 4 порядка точности\n",
        "  while(iter < 3):\n",
        "    xi.append(xi[i-1] + h)\n",
        "    hi.append(h)\n",
        "    k1 = func(xi[i-1], yi[i-1])\n",
        "    k2 = func(xi[i-1] + h/2, yi[i-1] + h/2*k1)\n",
        "    k3 = func(xi[i-1] + h/2, yi[i-1] + h/2*k2)\n",
        "    k4 = func(xi[i-1] + h, yi[i-1] + h*k3)\n",
        "    y = yi[i-1] + h/6*(k1 + 2*k2 + 2*k3 + k4)\n",
        "    yi.append(y)\n",
        "\n",
        "    #Считаем погрешность\n",
        "    h_new = h/2\n",
        "    xi_new = xi[i-1] + h_new\n",
        "    k1 = func(xi[i-1], yi[i-1])\n",
        "    k2 = func(xi[i-1] + h_new/2, yi[i-1] + h_new/2*k1)\n",
        "    k3 = func(xi[i-1] + h_new/2, yi[i-1] + h_new/2*k2)\n",
        "    k4 = func(xi[i-1] + h_new, yi[i-1] + h_new*k3)\n",
        "    yi_new = yi[i-1] + h_new/6*(k1 + 2*k2 + 2*k3 + k4)\n",
        "    k1 = func(xi_new, yi_new)\n",
        "    k2 = func(xi_new + h_new/2, yi_new + h_new/2*k1)\n",
        "    k3 = func(xi_new + h_new/2, yi_new + h_new/2*k2)\n",
        "    k4 = func(xi_new + h_new, yi_new + h_new*k3)\n",
        "    _yi_.append(yi_new + h_new/6*(k1 + 2*k2 + 2*k3 + k4))\n",
        "    y_max.append(abs(yi[i] - _yi_[i]))\n",
        "    summa += h\n",
        "    iter += 1\n",
        "    i += 1\n",
        "  \n",
        "  #Остальные по экстраполяционной формуле и интерполяционной формуле Адамса\n",
        "  while(summa <= xk):\n",
        "    if(xi[i-1] + h + 0.000001 > xk):\n",
        "      xi.append(xi[i-1] + h)\n",
        "      hi.append(h)\n",
        "      y1 = yi[i-1] + h/24 * (55*func(xi[i-1], yi[i-1]) - 59*func(xi[i-2], yi[i-2])\n",
        "      + 37*func(xi[i-3], yi[i-3]) - 9*func(xi[i-4], yi[i-4]))\n",
        "      y2 = yi[i-1] + h/24 * (9*func(xi[i], y1) + 19*func(xi[i-1], yi[i-1])\n",
        "      - 5*func(xi[i-2], yi[i-2]) + func(xi[i-3], yi[i-3]))\n",
        "      if(y1 > y2):\n",
        "        y = y1\n",
        "      elif(y2 >= y1):\n",
        "        y = y2\n",
        "      yi.append(y)\n",
        "      iter += 1\n",
        "\n",
        "      #Считаем погрешность\n",
        "      h_new = h/2\n",
        "      xi_new = xi[i-1] + h_new\n",
        "      y1 = yi[i-1] + h_new/24 * (55*func(xi[i-1], yi[i-1]) - 59*func(xi[i-2], yi[i-2])\n",
        "      + 37*func(xi[i-3], yi[i-3]) - 9*func(xi[i-4], yi[i-4]))\n",
        "      y2 = yi[i-1] + h_new/24 * (9*func(xi[i], y1) + 19*func(xi[i-1], yi[i-1])\n",
        "      - 5*func(xi[i-2], yi[i-2]) + func(xi[i-3], yi[i-3]))\n",
        "      if(y1 > y2):\n",
        "        yi_new = y1\n",
        "      elif(y2 >= y1):\n",
        "        yi_new = y2\n",
        "      \n",
        "      y1 = yi_new + h_new/24 * (55*func(xi_new, yi_new) - 59*func(xi[i-1], yi[i-1])\n",
        "      + 37*func(xi[i-2], yi[i-2]) - 9*func(xi[i-3], yi[i-3]))\n",
        "      y2 = yi_new + h_new/24 * (9*func(xi_new + h_new, y1) + 19*func(xi_new, yi_new)\n",
        "      - 5*func(xi[i-1], yi[i-1]) + func(xi[i-2], yi[i-2]))\n",
        "      if(y1 > y2):\n",
        "        yi_ = y1\n",
        "      elif(y2 >= y1):\n",
        "        yi_ = y2\n",
        "      \n",
        "      _yi_.append(yi_)\n",
        "      y_max.append(abs(yi[i] - _yi_[i]))\n",
        "      break\n",
        "\n",
        "    #Считаем нашу точку\n",
        "    xi.append(xi[i-1] + h)\n",
        "    hi.append(h)\n",
        "    y1 = yi[i-1] + h/24 * (55*func(xi[i-1], yi[i-1]) - 59*func(xi[i-2], yi[i-2])\n",
        "    + 37*func(xi[i-3], yi[i-3]) - 9*func(xi[i-4], yi[i-4]))\n",
        "    y2 = yi[i-1] + h/24 * (9*func(xi[i], y1) + 19*func(xi[i-1], yi[i-1])\n",
        "    - 5*func(xi[i-2], yi[i-2]) + func(xi[i-3], yi[i-3]))\n",
        "    if(y1 > y2):\n",
        "      y = y1\n",
        "    elif(y2 >= y1):\n",
        "      y = y2\n",
        "    yi.append(y)\n",
        "\n",
        "    #Считаем погрешность и разницу \n",
        "    h_new = h/2\n",
        "    xi_new = xi[i-1] + h_new\n",
        "    y1 = yi[i-1] + h_new/24 * (55*func(xi[i-1], yi[i-1]) - 59*func(xi[i-2], yi[i-2])\n",
        "    + 37*func(xi[i-3], yi[i-3]) - 9*func(xi[i-4], yi[i-4]))\n",
        "    y2 = yi[i-1] + h_new/24 * (9*func(xi[i], y1) + 19*func(xi[i-1], yi[i-1])\n",
        "    - 5*func(xi[i-2], yi[i-2]) + func(xi[i-3], yi[i-3]))\n",
        "    if(y1 > y2):\n",
        "      yi_new = y1\n",
        "    elif(y2 >= y1):\n",
        "      yi_new = y2\n",
        "    \n",
        "    y1 = yi_new + h_new/24 * (55*func(xi_new, yi_new) - 59*func(xi[i-1], yi[i-1])\n",
        "    + 37*func(xi[i-2], yi[i-2]) - 9*func(xi[i-3], yi[i-3]))\n",
        "    y2 = yi_new + h_new/24 * (9*func(xi_new + h_new, y1) + 19*func(xi_new, yi_new)\n",
        "    - 5*func(xi[i-1], yi[i-1]) + func(xi[i-2], yi[i-2]))\n",
        "    if(y1 > y2):\n",
        "      yi_ = y1\n",
        "    elif(y2 >= y1):\n",
        "      yi_ = y2\n",
        "    \n",
        "    _yi_.append(yi_)\n",
        "    y_max.append(abs(yi[i] - _yi_[i]))\n",
        "\n",
        "    if(iter == Nmax):\n",
        "      break\n",
        "    summa += h\n",
        "    i += 1\n",
        "    iter += 1\n",
        "  \n",
        "  dict = {'xi':xi, 'hi':hi, 'yi':yi, '^yi':_yi_, '|yi - ^yi|':y_max}\n",
        "  print(\"Справка:\")\n",
        "  print(f\"Условие задачи: y({x0})={y0} на интервале [{x0}, {xk}]\")\n",
        "  print(f\"Количество интераций: {iter}\")\n",
        "  print(f\"Максимальное значение погрешности: {max(y_max)}\")\n",
        "  print()\n",
        "  print(pd.DataFrame(dict))\n",
        "  print()\n",
        "  print(\"График нашего решения: \")\n",
        "\n",
        "  plt.plot(xi, yi, label=\"Метод Адамса\")\n",
        "  plt.plot(xi, _yi_, label=\"Улучшенный метод Адамса\")\n",
        "  plt.legend()\n",
        "  plt.show()\n",
        "  return xi, yi"
      ],
      "metadata": {
        "id": "yS_SIxobwqix"
      },
      "execution_count": null,
      "outputs": []
    },
    {
      "cell_type": "markdown",
      "source": [
        "# Задание 2."
      ],
      "metadata": {
        "id": "3MZKuk6ZN3bt"
      }
    },
    {
      "cell_type": "markdown",
      "source": [
        "Вызовем функцию Эйлера:"
      ],
      "metadata": {
        "id": "FZTvQ_JxTrE2"
      }
    },
    {
      "cell_type": "code",
      "source": [
        "xi_Euler, yi_Euler = Euler(2, 1.5, 7, 0.1, 0, func)"
      ],
      "metadata": {
        "colab": {
          "base_uri": "https://localhost:8080/",
          "height": 1000
        },
        "id": "uTH7d5h6JtdO",
        "outputId": "18749d06-32ed-4d52-b579-a9e67a8dc552"
      },
      "execution_count": null,
      "outputs": [
        {
          "output_type": "stream",
          "name": "stdout",
          "text": [
            "Справка:\n",
            "Условие задачи: y(1.5)=2 на интервале [1.5, 7]\n",
            "Количество интераций: 55\n",
            "Максимальное значение погрешности: 0.021509974881540828\n",
            "\n",
            "     xi   hi        yi       ^yi  |yi - ^yi|\n",
            "0   1.5  0.1  2.000000  2.000000    0.000000\n",
            "1   1.6  0.1  2.064456  2.042946    0.021510\n",
            "2   1.7  0.1  2.036413  2.027408    0.009005\n",
            "3   1.8  0.1  1.969938  1.972431    0.002493\n",
            "4   1.9  0.1  1.914879  1.915209    0.000330\n",
            "5   2.0  0.1  1.862508  1.863323    0.000815\n",
            "6   2.1  0.1  1.814573  1.815170    0.000598\n",
            "7   2.2  0.1  1.770056  1.770618    0.000562\n",
            "8   2.3  0.1  1.728692  1.729189    0.000497\n",
            "9   2.4  0.1  1.690120  1.690568    0.000447\n",
            "10  2.5  0.1  1.654059  1.654461    0.000402\n",
            "11  2.6  0.1  1.620258  1.620621    0.000363\n",
            "12  2.7  0.1  1.588500  1.588829    0.000329\n",
            "13  2.8  0.1  1.558597  1.558896    0.000299\n",
            "14  2.9  0.1  1.530384  1.530656    0.000272\n",
            "15  3.0  0.1  1.503714  1.503962    0.000248\n",
            "16  3.1  0.1  1.478458  1.478685    0.000227\n",
            "17  3.2  0.1  1.454502  1.454710    0.000208\n",
            "18  3.3  0.1  1.431744  1.431935    0.000191\n",
            "19  3.4  0.1  1.410093  1.410268    0.000176\n",
            "20  3.5  0.1  1.389467  1.389629    0.000162\n",
            "21  3.6  0.1  1.369794  1.369944    0.000150\n",
            "22  3.7  0.1  1.351007  1.351146    0.000139\n",
            "23  3.8  0.1  1.333047  1.333175    0.000129\n",
            "24  3.9  0.1  1.315859  1.315978    0.000119\n",
            "25  4.0  0.1  1.299395  1.299506    0.000111\n",
            "26  4.1  0.1  1.283610  1.283714    0.000103\n",
            "27  4.2  0.1  1.268464  1.268560    0.000096\n",
            "28  4.3  0.1  1.253918  1.254007    0.000090\n",
            "29  4.4  0.1  1.239939  1.240022    0.000084\n",
            "30  4.5  0.1  1.226495  1.226573    0.000078\n",
            "31  4.6  0.1  1.213557  1.213630    0.000073\n",
            "32  4.7  0.1  1.201098  1.201167    0.000068\n",
            "33  4.8  0.1  1.189095  1.189159    0.000064\n",
            "34  4.9  0.1  1.177523  1.177582    0.000060\n",
            "35  5.0  0.1  1.166361  1.166417    0.000056\n",
            "36  5.1  0.1  1.155590  1.155642    0.000052\n",
            "37  5.2  0.1  1.145191  1.145239    0.000049\n",
            "38  5.3  0.1  1.135146  1.135191    0.000045\n",
            "39  5.4  0.1  1.125439  1.125481    0.000042\n",
            "40  5.5  0.1  1.116055  1.116094    0.000039\n",
            "41  5.6  0.1  1.106978  1.107015    0.000036\n",
            "42  5.7  0.1  1.098196  1.098230    0.000034\n",
            "43  5.8  0.1  1.089695  1.089726    0.000031\n",
            "44  5.9  0.1  1.081463  1.081491    0.000028\n",
            "45  6.0  0.1  1.073488  1.073514    0.000026\n",
            "46  6.1  0.1  1.065758  1.065782    0.000024\n",
            "47  6.2  0.1  1.058263  1.058284    0.000021\n",
            "48  6.3  0.1  1.050992  1.051011    0.000019\n",
            "49  6.4  0.1  1.043936  1.043953    0.000017\n",
            "50  6.5  0.1  1.037084  1.037099    0.000015\n",
            "51  6.6  0.1  1.030428  1.030441    0.000013\n",
            "52  6.7  0.1  1.023959  1.023969    0.000011\n",
            "53  6.8  0.1  1.017667  1.017676    0.000009\n",
            "54  6.9  0.1  1.011545  1.011552    0.000007\n",
            "55  7.0  0.1  1.005585  1.005589    0.000005\n",
            "\n",
            "График нашего решения: \n"
          ]
        },
        {
          "output_type": "display_data",
          "data": {
            "text/plain": [
              "<Figure size 432x288 with 1 Axes>"
            ],
            "image/png": "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\n"
          },
          "metadata": {
            "needs_background": "light"
          }
        }
      ]
    },
    {
      "cell_type": "markdown",
      "source": [
        "Вызовем функцию Рунге-Кутты 2 порядка точности:"
      ],
      "metadata": {
        "id": "P-iV2JkVTyDa"
      }
    },
    {
      "cell_type": "code",
      "source": [
        "xi_RK_2, yi_RK_2 = Runge_Kutta(2, 1.5, 7, 0.05, -1, func)"
      ],
      "metadata": {
        "colab": {
          "base_uri": "https://localhost:8080/",
          "height": 629
        },
        "id": "MjbNZvUcmBi4",
        "outputId": "9a9dc093-ae72-48f2-c1d6-62507141fde9"
      },
      "execution_count": null,
      "outputs": [
        {
          "output_type": "stream",
          "name": "stdout",
          "text": [
            "Справка:\n",
            "Условие задачи: y(1.5)=2 на интервале [1.5, 7]\n",
            "Количество интераций: 110\n",
            "Максимальное значение погрешности: 0.0008314030366882719\n",
            "\n",
            "       xi    hi        yi       ^yi  |yi - ^yi|\n",
            "0    1.50  0.05  2.000000  2.000000    0.000000\n",
            "1    1.55  0.05  2.021473  2.022288    0.000815\n",
            "2    1.60  0.05  2.027563  2.028395    0.000831\n",
            "3    1.65  0.05  2.021963  2.022749    0.000787\n",
            "4    1.70  0.05  2.007708  2.008354    0.000646\n",
            "..    ...   ...       ...       ...         ...\n",
            "106  6.80  0.05  1.017743  1.017710    0.000033\n",
            "107  6.85  0.05  1.014662  1.014627    0.000035\n",
            "108  6.90  0.05  1.011624  1.011586    0.000038\n",
            "109  6.95  0.05  1.008627  1.008586    0.000041\n",
            "110  7.00  0.05  1.005669  1.005625    0.000045\n",
            "\n",
            "[111 rows x 5 columns]\n",
            "\n",
            "График нашего решения: \n"
          ]
        },
        {
          "output_type": "display_data",
          "data": {
            "text/plain": [
              "<Figure size 432x288 with 1 Axes>"
            ],
            "image/png": "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\n"
          },
          "metadata": {
            "needs_background": "light"
          }
        }
      ]
    },
    {
      "cell_type": "markdown",
      "source": [
        "Вызовем функцию Рунге-Кутты 4 порядка:"
      ],
      "metadata": {
        "id": "HC8_RfwbULZA"
      }
    },
    {
      "cell_type": "code",
      "source": [
        "xi_RK_4, yi_RK_4 = Runge_Kutta_4(2, 1.5, 7, 0.1, -1, func)"
      ],
      "metadata": {
        "colab": {
          "base_uri": "https://localhost:8080/",
          "height": 1000
        },
        "id": "WfP5Pq47--XG",
        "outputId": "50768e28-d190-4687-e1de-a89fde2dc89c"
      },
      "execution_count": null,
      "outputs": [
        {
          "output_type": "stream",
          "name": "stdout",
          "text": [
            "Справка:\n",
            "Условие задачи: y(1.5)=2 на интервале [1.5, 7]\n",
            "Количество интераций: 55\n",
            "Максимальное значение погрешности: 0.003394722446301124\n",
            "\n",
            "     xi   hi        yi       ^yi  |yi - ^yi|\n",
            "0   1.5  0.1  2.000000  2.000000    0.000000\n",
            "1   1.6  0.1  2.029063  2.029337    0.000274\n",
            "2   1.7  0.1  2.009321  2.009746    0.000425\n",
            "3   1.8  0.1  1.965150  1.965442    0.000292\n",
            "4   1.9  0.1  1.914087  1.914148    0.000060\n",
            "5   2.0  0.1  1.863626  1.863592    0.000033\n",
            "6   2.1  0.1  1.815953  1.815898    0.000055\n",
            "7   2.2  0.1  1.771451  1.771395    0.000056\n",
            "8   2.3  0.1  1.729985  1.729934    0.000051\n",
            "9   2.4  0.1  1.691297  1.691251    0.000046\n",
            "10  2.5  0.1  1.655123  1.655081    0.000042\n",
            "11  2.6  0.1  1.621218  1.621180    0.000038\n",
            "12  2.7  0.1  1.589368  1.589333    0.000035\n",
            "13  2.8  0.1  1.559383  1.559351    0.000033\n",
            "14  2.9  0.1  1.531097  1.531066    0.000030\n",
            "15  3.0  0.1  1.504361  1.504333    0.000029\n",
            "16  3.1  0.1  1.479048  1.479020    0.000027\n",
            "17  3.2  0.1  1.455040  1.455014    0.000026\n",
            "18  3.3  0.1  1.432236  1.432211    0.000025\n",
            "19  3.4  0.1  1.410543  1.410520    0.000024\n",
            "20  3.5  0.1  1.389881  1.389858    0.000023\n",
            "21  3.6  0.1  1.370175  1.370152    0.000022\n",
            "22  3.7  0.1  1.351358  1.351336    0.000022\n",
            "23  3.8  0.1  1.333371  1.333349    0.000022\n",
            "24  3.9  0.1  1.316159  1.316138    0.000021\n",
            "25  4.0  0.1  1.299673  1.299652    0.000021\n",
            "26  4.1  0.1  1.283869  1.283848    0.000021\n",
            "27  4.2  0.1  1.268704  1.268683    0.000021\n",
            "28  4.3  0.1  1.254142  1.254121    0.000021\n",
            "29  4.4  0.1  1.240148  1.240127    0.000021\n",
            "30  4.5  0.1  1.226690  1.226669    0.000021\n",
            "31  4.6  0.1  1.213740  1.213719    0.000022\n",
            "32  4.7  0.1  1.201271  1.201249    0.000022\n",
            "33  4.8  0.1  1.189257  1.189235    0.000023\n",
            "34  4.9  0.1  1.177676  1.177653    0.000023\n",
            "35  5.0  0.1  1.166507  1.166483    0.000024\n",
            "36  5.1  0.1  1.155728  1.155703    0.000025\n",
            "37  5.2  0.1  1.145322  1.145296    0.000026\n",
            "38  5.3  0.1  1.135272  1.135244    0.000028\n",
            "39  5.4  0.1  1.125560  1.125530    0.000029\n",
            "40  5.5  0.1  1.116171  1.116140    0.000031\n",
            "41  5.6  0.1  1.107091  1.107058    0.000034\n",
            "42  5.7  0.1  1.098307  1.098270    0.000037\n",
            "43  5.8  0.1  1.089805  1.089764    0.000040\n",
            "44  5.9  0.1  1.081573  1.081528    0.000045\n",
            "45  6.0  0.1  1.073600  1.073548    0.000051\n",
            "46  6.1  0.1  1.065874  1.065815    0.000060\n",
            "47  6.2  0.1  1.058387  1.058316    0.000071\n",
            "48  6.3  0.1  1.051131  1.051043    0.000088\n",
            "49  6.4  0.1  1.044098  1.043984    0.000113\n",
            "50  6.5  0.1  1.037287  1.037131    0.000155\n",
            "51  6.6  0.1  1.030705  1.030475    0.000229\n",
            "52  6.7  0.1  1.024382  1.024008    0.000374\n",
            "53  6.8  0.1  1.018411  1.017725    0.000686\n",
            "54  6.9  0.1  1.013065  1.011625    0.001440\n",
            "55  7.0  0.1  1.009119  1.005724    0.003395\n",
            "\n",
            "График нашего решения: \n"
          ]
        },
        {
          "output_type": "display_data",
          "data": {
            "text/plain": [
              "<Figure size 432x288 with 1 Axes>"
            ],
            "image/png": "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\n"
          },
          "metadata": {
            "needs_background": "light"
          }
        }
      ]
    },
    {
      "cell_type": "markdown",
      "source": [
        "Вызовем функцию Адамса 4 порядка:"
      ],
      "metadata": {
        "id": "Ul2rm0l2UcE4"
      }
    },
    {
      "cell_type": "code",
      "source": [
        "xi_Adams, yi_Adams = Adams(2, 1.5, 7, 0.05, -1, func)"
      ],
      "metadata": {
        "colab": {
          "base_uri": "https://localhost:8080/",
          "height": 629
        },
        "id": "woQWbUCbM2EL",
        "outputId": "0731f8c5-e385-4720-8809-ff733fed5f25"
      },
      "execution_count": null,
      "outputs": [
        {
          "output_type": "stream",
          "name": "stdout",
          "text": [
            "Справка:\n",
            "Условие задачи: y(1.5)=2 на интервале [1.5, 7]\n",
            "Количество интераций: 110\n",
            "Максимальное значение погрешности: 0.0011086932722688125\n",
            "\n",
            "       xi    hi        yi       ^yi  |yi - ^yi|\n",
            "0    1.50  0.05  2.000000  2.000000    0.000000\n",
            "1    1.55  0.05  2.022505  2.022510    0.000004\n",
            "2    1.60  0.05  2.029337  2.029345    0.000008\n",
            "3    1.65  0.05  2.024129  2.024139    0.000010\n",
            "4    1.70  0.05  2.009987  2.011096    0.001109\n",
            "..    ...   ...       ...       ...         ...\n",
            "106  6.80  0.05  1.017694  1.017699    0.000005\n",
            "107  6.85  0.05  1.014611  1.014616    0.000005\n",
            "108  6.90  0.05  1.011569  1.011575    0.000005\n",
            "109  6.95  0.05  1.008568  1.008574    0.000005\n",
            "110  7.00  0.05  1.005607  1.005612    0.000005\n",
            "\n",
            "[111 rows x 5 columns]\n",
            "\n",
            "График нашего решения: \n"
          ]
        },
        {
          "output_type": "display_data",
          "data": {
            "text/plain": [
              "<Figure size 432x288 with 1 Axes>"
            ],
            "image/png": "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\n"
          },
          "metadata": {
            "needs_background": "light"
          }
        }
      ]
    },
    {
      "cell_type": "markdown",
      "source": [
        "Сравним метод Рунге-Кутты 2 порядка, метод Рунге-Кутты 4 порядка, метод Адамса и метод Эйлера для дифференциального уравнения 1 порядка с постоянным шагом."
      ],
      "metadata": {
        "id": "k0mAwbQDsSxc"
      }
    },
    {
      "cell_type": "code",
      "source": [
        "plt.plot(xi_Euler, yi_Euler, label=\"Метод Эйлера\")\n",
        "plt.plot(xi_RK_2, yi_RK_2, label=\"Метод Рунге-Кутты 2 порядка\")\n",
        "plt.plot(xi_RK_4, yi_RK_4, label=\"Метод Рунге-Кутты 4 порядка\")\n",
        "plt.plot(xi_Adams, yi_Adams, label=\"Метод Адамса 4 порядка\")\n",
        "plt.legend()\n",
        "plt.show()"
      ],
      "metadata": {
        "colab": {
          "base_uri": "https://localhost:8080/",
          "height": 265
        },
        "id": "H6lfTitJsRuK",
        "outputId": "c801da7d-e22b-4309-a06b-8e0ec6356a72"
      },
      "execution_count": null,
      "outputs": [
        {
          "output_type": "display_data",
          "data": {
            "text/plain": [
              "<Figure size 432x288 with 1 Axes>"
            ],
            "image/png": "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\n"
          },
          "metadata": {
            "needs_background": "light"
          }
        }
      ]
    },
    {
      "cell_type": "markdown",
      "source": [
        "Самым не точным методом для дифференциального уравнения 1 порядка с постоянным шагом оказался метод Эйлера, а наиболее точным метод - метод Рунге-Кутты 4 порядка точности."
      ],
      "metadata": {
        "id": "U2Ijc3c_UuCB"
      }
    },
    {
      "cell_type": "markdown",
      "source": [
        "Реализуем метод Эйлера для решения дифференциального уравнения 1 порядка с варьированным шагом."
      ],
      "metadata": {
        "id": "BgscmDfFwsT1"
      }
    },
    {
      "cell_type": "code",
      "source": [
        "def Euler_2(y0, x0, xk, e, h, Nmax, func, p=1):\n",
        "    xi = []\n",
        "    yi = []\n",
        "    hi = []\n",
        "    _yi_ = []\n",
        "    y_max = []\n",
        "    doubling = []\n",
        "    division = []\n",
        "    xi.append(x0)\n",
        "    yi.append(y0)\n",
        "    hi.append(h)\n",
        "    _yi_.append(y0)\n",
        "    y_max.append(0)\n",
        "    doubling.append(0)\n",
        "    division.append(0)\n",
        "    iter = 0\n",
        "    summa = x0\n",
        "    i = 1\n",
        "    while(summa < xk):\n",
        "        if(xi[i-1] + h > xk):\n",
        "          h_last = round(abs(xi[i-1] - xk), 4)\n",
        "          y = yi[i-1] + h_last * func(xi[i-1], yi[i-1])\n",
        "          h_new = h_last/2\n",
        "          x_new = xi[i-1] + h_new\n",
        "          y_new = yi[i-1] + h_new * func(xi[i-1], yi[i-1])\n",
        "          y_ = y_new + h_new * func(x_new, y_new)\n",
        "          xi.append(xi[i-1] + h_last)\n",
        "          yi.append(y)\n",
        "          hi.append(h_last)\n",
        "          _yi_.append(y_)\n",
        "          y_max.append(abs(y - y_))\n",
        "          summa = summa + h_last\n",
        "          doubling.append(0)\n",
        "          division.append(0)\n",
        "          iter += 1\n",
        "          break\n",
        "        flag = True\n",
        "        doub = 0\n",
        "        div = 0\n",
        "        while(flag):\n",
        "          y = yi[i-1] + h * func(xi[i-1], yi[i-1])\n",
        "          h_new = h/2\n",
        "          x_new = xi[i-1] + h_new\n",
        "          y_new = yi[i-1] + h_new * func(xi[i-1], yi[i-1])\n",
        "          y_ = y_new + h_new * func(x_new, y_new)\n",
        "          S = (y_ - y) / (2**p - 1)\n",
        "          if(e/(2**(p+1)) <= abs(S) <= e):\n",
        "            xi.append(xi[i-1] + h)\n",
        "            yi.append(y)\n",
        "            hi.append(h)\n",
        "            _yi_.append(y_)\n",
        "            y_max.append(abs(y - y_))\n",
        "            summa = summa + h\n",
        "            flag = False\n",
        "          elif(abs(S) <= e/(2**(p+1))):\n",
        "            h = h * 2\n",
        "            xi.append(xi[i-1] + h)\n",
        "            yi.append(y)\n",
        "            hi.append(h)\n",
        "            _yi_.append(y_)\n",
        "            y_max.append(abs(y - y_))\n",
        "            doub += 1\n",
        "            summa = summa + h\n",
        "            flag = False\n",
        "          elif(abs(S) > e):\n",
        "            h = h/2\n",
        "            div += 1\n",
        "            continue\n",
        "        \n",
        "        doubling.append(doub)\n",
        "        division.append(div)\n",
        "        if(iter == Nmax and Nmax != 0):\n",
        "          break\n",
        "        iter += 1\n",
        "        i += 1\n",
        "    dict = {'xi':xi, 'hi':hi, 'yi':yi, '^yi':_yi_, '|yi - ^yi|':y_max, 'Удвоение':doubling, 'Деление':division}\n",
        "    print(\"Справка:\")\n",
        "    print(f\"Условие задачи: y({x0})={y0} на интервале [{x0}, {xk}]\")\n",
        "    print(f\"Количество интераций: {iter}\")\n",
        "    print(f\"Максимальное значение погрешности: {max(y_max)}\")\n",
        "    print(f\"Всего удвоений: {sum(doubling)}\")\n",
        "    print(f\"Всего делений: {sum(division)}\")\n",
        "    print()\n",
        "    print(pd.DataFrame(dict))\n",
        "\n",
        "    print()\n",
        "    print(\"График нашего решения: \")\n",
        "    plt.plot(xi, yi, label=\"Метод Эйлера\")\n",
        "    plt.plot(xi, _yi_, label=\"Усовершенствованный метод Эйлера\")\n",
        "    plt.legend()\n",
        "    plt.show()\n",
        "    return xi, yi"
      ],
      "metadata": {
        "id": "FW5KEXVwWHcq"
      },
      "execution_count": null,
      "outputs": []
    },
    {
      "cell_type": "code",
      "source": [
        "xi_Euler2, yi_Euler2 = Euler_2(1, 1, 5, 0.001, 0.2, 0, func)"
      ],
      "metadata": {
        "colab": {
          "base_uri": "https://localhost:8080/",
          "height": 664
        },
        "id": "xe4VEsiuYi9R",
        "outputId": "01d851cc-39e0-42fc-8cc1-8fc6e7a37705"
      },
      "execution_count": null,
      "outputs": [
        {
          "output_type": "stream",
          "name": "stdout",
          "text": [
            "Справка:\n",
            "Условие задачи: y(1)=1 на интервале [1, 5]\n",
            "Количество интераций: 161\n",
            "Максимальное значение погрешности: 0.0009808316455632848\n",
            "Всего удвоений: 33\n",
            "Всего делений: 37\n",
            "\n",
            "         xi      hi        yi       ^yi  |yi - ^yi|  Удвоение  Деление\n",
            "0    1.0000  0.2000  1.000000  1.000000    0.000000         0        0\n",
            "1    1.0250  0.0250  1.025000  1.025314    0.000314         0        3\n",
            "2    1.0500  0.0250  1.051266  1.051588    0.000322         0        0\n",
            "3    1.0750  0.0250  1.078828  1.079158    0.000330         0        0\n",
            "4    1.1000  0.0250  1.107719  1.108056    0.000338         0        0\n",
            "..      ...     ...       ...       ...         ...       ...      ...\n",
            "157  4.9375  0.0125  6.456974  6.456663    0.000311         0        0\n",
            "158  4.9625  0.0250  6.472607  6.472388    0.000219         1        0\n",
            "159  4.9750  0.0125  6.491278  6.490826    0.000452         0        1\n",
            "160  4.9875  0.0125  6.508136  6.507820    0.000316         0        0\n",
            "161  5.0000  0.0125  6.523727  6.523506    0.000221         0        0\n",
            "\n",
            "[162 rows x 7 columns]\n",
            "\n",
            "График нашего решения: \n"
          ]
        },
        {
          "output_type": "display_data",
          "data": {
            "text/plain": [
              "<Figure size 432x288 with 1 Axes>"
            ],
            "image/png": "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\n"
          },
          "metadata": {
            "needs_background": "light"
          }
        }
      ]
    },
    {
      "cell_type": "markdown",
      "source": [
        "Реализуем метод Рунге-Кутты 2 порядка точности для решения дифференциального уравнения 1 порядка с варьированным шагом."
      ],
      "metadata": {
        "id": "lLIzNY2_w6ob"
      }
    },
    {
      "cell_type": "code",
      "source": [
        "def Runge_Kutta_2(y0, x0, xk, eps, h, Nmax, func, p=2):\n",
        "    xi = []\n",
        "    yi = []\n",
        "    hi = []\n",
        "    _yi_ = []\n",
        "    y_max = []\n",
        "    doubling = []\n",
        "    division = []\n",
        "    xi.append(x0)\n",
        "    yi.append(y0)\n",
        "    hi.append(h)\n",
        "    _yi_.append(y0)\n",
        "    y_max.append(0)\n",
        "    doubling.append(0)\n",
        "    division.append(0)\n",
        "    iter = 0\n",
        "    summa = x0\n",
        "    i = 1\n",
        "    while(summa < xk):\n",
        "        if(xi[i-1] + h + 0.000001 > xk):\n",
        "          h_last = round((abs(xi[i-1] - xk)), 4)\n",
        "          xi.append(xi[i-1] + h_last)\n",
        "          hi.append(h_last)\n",
        "          y = yi[i-1] + h_last/2 * (func(xi[i-1], yi[i-1]) + func(xi[i-1] + h_last, yi[i-1] + h_last*func(xi[i-1], yi[i-1])))\n",
        "          yi.append(y)\n",
        "          h_new = h_last/2\n",
        "          xi_new = xi[i-1] + h_new\n",
        "          yi_new = yi[i-1] + h_new/2 * (func(xi[i-1], yi[i-1]) + func(xi[i-1] + h_new, yi[i-1] + h_new * func(xi[i-1], yi[i-1])))\n",
        "          _yi_.append(yi_new + h_new/2 * (func(xi_new, yi_new) + func(xi_new + h_new, yi_new + h_new * func(xi_new, yi_new))))\n",
        "          y_max.append(abs(yi[i] - _yi_[i]))\n",
        "          doubling.append(0)\n",
        "          division.append(0)\n",
        "          iter += 1\n",
        "          break\n",
        "        flag = True\n",
        "        doub = 0\n",
        "        div = 0\n",
        "        while(flag):\n",
        "          y = yi[i-1] + h/2 * (func(xi[i-1], yi[i-1]) + func(xi[i-1] + h, yi[i-1] + h*func(xi[i-1], yi[i-1])))\n",
        "          h_new = h/2\n",
        "          x_new = xi[i-1] + h_new\n",
        "          y_new = yi[i-1] + h_new/2 * (func(xi[i-1], yi[i-1]) + func(xi[i-1] + h_new, yi[i-1] + h_new * func(xi[i-1], yi[i-1])))\n",
        "          y_ = y_new + h_new * func(x_new, y_new)\n",
        "          y_ = y_new + h_new/2 * (func(x_new, y_new) + func(x_new + h_new, y_new + h_new * func(x_new, y_new)))\n",
        "          S = (y_ - y) / (2**p - 1)\n",
        "          if(eps/(2**(p+1)) <= abs(S) <= eps):\n",
        "            xi.append(xi[i-1] + h)\n",
        "            yi.append(y)\n",
        "            hi.append(h)\n",
        "            _yi_.append(y_)\n",
        "            y_max.append(abs(y - y_))\n",
        "            summa = summa + h\n",
        "            flag = False\n",
        "          elif(abs(S) <= eps/(2**(p+1))):\n",
        "            h = h * 2\n",
        "            xi.append(xi[i-1] + h)\n",
        "            yi.append(y)\n",
        "            hi.append(h)\n",
        "            _yi_.append(y_)\n",
        "            y_max.append(abs(y - y_))\n",
        "            doub += 1\n",
        "            summa = summa + h\n",
        "            flag = False\n",
        "          elif(abs(S) > eps):\n",
        "            h = h/2\n",
        "            div += 1\n",
        "            continue\n",
        "        \n",
        "        doubling.append(doub)\n",
        "        division.append(div)\n",
        "        if(iter == Nmax and Nmax != 0):\n",
        "          break\n",
        "        iter += 1\n",
        "        i += 1\n",
        "    dict = {'xi':xi, 'hi':hi, 'yi':yi, '^yi':_yi_, '|yi - ^yi|':y_max, 'Удвоение':doubling, 'Деление':division}\n",
        "    print(\"Справка:\")\n",
        "    print(f\"Условие задачи: y({x0})={y0} на интервале [{x0}, {xk}]\")\n",
        "    print(f\"Количество интераций: {iter}\")\n",
        "    print(f\"Максимальное значение погрешности: {max(y_max)}\")\n",
        "    print(f\"Всего удвоений: {sum(doubling)}\")\n",
        "    print(f\"Всего делений: {sum(division)}\")\n",
        "    print()\n",
        "    print(pd.DataFrame(dict))\n",
        "\n",
        "    print()\n",
        "    print(\"График нашего решения: \")\n",
        "    plt.plot(xi, yi, label=\"Метод Рунге-Кутты 2 порядка\")\n",
        "    plt.plot(xi, _yi_, label=\"Усовершенствованный метод Рунге-Кутты 2 порядка\")\n",
        "    plt.legend()\n",
        "    plt.show()\n",
        "    return xi, yi"
      ],
      "metadata": {
        "id": "hw0sOxA6xTre"
      },
      "execution_count": null,
      "outputs": []
    },
    {
      "cell_type": "code",
      "source": [
        "xi_RK2, yi_RK2 = Runge_Kutta_2(1, 1, 5, 0.001, 0.2, 0, func)"
      ],
      "metadata": {
        "colab": {
          "base_uri": "https://localhost:8080/",
          "height": 1480
        },
        "id": "JDznjunO2amm",
        "outputId": "aa637eda-4547-405f-cc71-1536f3faf260"
      },
      "execution_count": null,
      "outputs": [
        {
          "output_type": "stream",
          "name": "stdout",
          "text": [
            "Справка:\n",
            "Условие задачи: y(1)=1 на интервале [1, 5]\n",
            "Количество интераций: 59\n",
            "Максимальное значение погрешности: 0.002070189440834369\n",
            "Всего удвоений: 15\n",
            "Всего делений: 17\n",
            "\n",
            "       xi     hi        yi       ^yi  |yi - ^yi|  Удвоение  Деление\n",
            "0   1.000  0.200  1.000000  1.000000    0.000000         0        0\n",
            "1   1.200  0.200  1.244000  1.242961    0.001039         0        0\n",
            "2   1.400  0.200  1.582163  1.580797    0.001365         0        0\n",
            "3   1.600  0.200  2.013810  2.012485    0.001325         0        0\n",
            "4   1.800  0.200  2.499606  2.501092    0.001485         0        0\n",
            "5   1.900  0.100  2.743018  2.743934    0.000916         0        1\n",
            "6   2.000  0.100  2.973968  2.975317    0.001349         0        0\n",
            "7   2.100  0.100  3.186631  3.188311    0.001681         0        0\n",
            "8   2.200  0.100  3.378781  3.380623    0.001842         0        0\n",
            "9   2.300  0.100  3.551195  3.553024    0.001829         0        0\n",
            "10  2.400  0.100  3.706497  3.708179    0.001682         0        0\n",
            "11  2.500  0.100  3.848046  3.849504    0.001458         0        0\n",
            "12  2.600  0.100  3.979149  3.980358    0.001209         0        0\n",
            "13  2.700  0.100  4.102639  4.103612    0.000973         0        0\n",
            "14  2.800  0.100  4.220730  4.221499    0.000769         0        0\n",
            "15  2.900  0.100  4.335037  4.335643    0.000606         0        0\n",
            "16  3.000  0.100  4.446684  4.447166    0.000482         0        0\n",
            "17  3.100  0.100  4.556428  4.556820    0.000392         0        0\n",
            "18  3.300  0.200  4.664771  4.665099    0.000328         1        0\n",
            "19  3.350  0.050  4.760903  4.762974    0.002070         0        2\n",
            "20  3.400  0.050  4.840329  4.841708    0.001380         0        0\n",
            "21  3.450  0.050  4.909194  4.910098    0.000904         0        0\n",
            "22  3.500  0.050  4.971482  4.972067    0.000585         0        0\n",
            "23  3.550  0.050  5.029720  5.030096    0.000375         0        0\n",
            "24  3.650  0.100  5.085484  5.085723    0.000240         1        0\n",
            "25  3.700  0.050  5.163033  5.165012    0.001979         0        1\n",
            "26  3.750  0.050  5.229390  5.230586    0.001196         0        0\n",
            "27  3.800  0.050  5.289331  5.290046    0.000715         0        0\n",
            "28  3.850  0.050  5.345628  5.346052    0.000424         0        0\n",
            "29  3.950  0.100  5.399867  5.400118    0.000251         1        0\n",
            "30  3.975  0.025  5.442891  5.443279    0.000388         0        2\n",
            "31  4.025  0.050  5.480623  5.480900    0.000277         1        0\n",
            "32  4.050  0.025  5.523064  5.523473    0.000408         0        1\n",
            "33  4.100  0.050  5.560221  5.560509    0.000288         1        0\n",
            "34  4.125  0.025  5.602356  5.602792    0.000436         0        1\n",
            "35  4.175  0.050  5.639137  5.639440    0.000303         1        0\n",
            "36  4.200  0.025  5.681111  5.681581    0.000470         0        1\n",
            "37  4.250  0.050  5.717621  5.717942    0.000321         1        0\n",
            "38  4.275  0.025  5.759511  5.760018    0.000507         0        1\n",
            "39  4.325  0.050  5.795804  5.796146    0.000342         1        0\n",
            "40  4.350  0.025  5.837649  5.838197    0.000548         0        1\n",
            "41  4.400  0.050  5.873755  5.874120    0.000364         1        0\n",
            "42  4.425  0.025  5.915578  5.916171    0.000593         0        1\n",
            "43  4.450  0.025  5.951514  5.951903    0.000388         0        0\n",
            "44  4.500  0.050  5.983663  5.983916    0.000253         1        0\n",
            "45  4.525  0.025  6.023101  6.023663    0.000562         0        1\n",
            "46  4.575  0.050  6.057342  6.057703    0.000361         1        0\n",
            "47  4.600  0.025  6.098223  6.098893    0.000670         0        1\n",
            "48  4.625  0.025  6.133226  6.133651    0.000425         0        0\n",
            "49  4.675  0.050  6.164569  6.164837    0.000268         1        0\n",
            "50  4.700  0.025  6.203815  6.204478    0.000663         0        1\n",
            "51  4.725  0.025  6.237643  6.238055    0.000413         0        0\n",
            "52  4.775  0.050  6.268159  6.268415    0.000256         1        0\n",
            "53  4.800  0.025  6.307082  6.307797    0.000716         0        1\n",
            "54  4.825  0.025  6.340556  6.340994    0.000437         0        0\n",
            "55  4.875  0.050  6.370763  6.371029    0.000266         1        0\n",
            "56  4.900  0.025  6.409679  6.410469    0.000790         0        1\n",
            "57  4.925  0.025  6.442999  6.443473    0.000474         0        0\n",
            "58  4.975  0.050  6.473021  6.473304    0.000283         1        0\n",
            "59  5.000  0.025  6.512004  6.512879    0.000875         0        0\n",
            "\n",
            "График нашего решения: \n"
          ]
        },
        {
          "output_type": "display_data",
          "data": {
            "text/plain": [
              "<Figure size 432x288 with 1 Axes>"
            ],
            "image/png": "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\n"
          },
          "metadata": {
            "needs_background": "light"
          }
        }
      ]
    },
    {
      "cell_type": "markdown",
      "source": [
        "Реализуем метод Рунге-Кутты 4 порядка точности для решения дифференциального уравнения 1 порядка с варьированным шагом."
      ],
      "metadata": {
        "id": "7Uoe-GmwFo8-"
      }
    },
    {
      "cell_type": "code",
      "source": [
        "def Runge_Kutta_4_2(y0, x0, xk, eps, h, Nmax, func, p=4):\n",
        "  xi = []\n",
        "  yi = []\n",
        "  hi = []\n",
        "  _yi_ = []\n",
        "  y_max = []\n",
        "  doubling = []\n",
        "  division = []\n",
        "  yi.append(y0)\n",
        "  _yi_.append(y0)\n",
        "  y_max.append(0)\n",
        "  xi.append(x0)\n",
        "  hi.append(h)\n",
        "  doubling.append(0)\n",
        "  division.append(0)\n",
        "\n",
        "  i = 1\n",
        "  summa = x0\n",
        "  iter = 0\n",
        "  while(summa <= xk):\n",
        "    if(xi[i-1] + h + 0.000001 > xk):\n",
        "      h_last = round(abs(xi[i-1] - xk), 4)\n",
        "      xi.append(xi[i-1] + h_last)\n",
        "      hi.append(h_last)\n",
        "      k1 = func(xi[i-1], yi[i-1])\n",
        "      k2 = func(xi[i-1] + h_last/2, yi[i-1] + h_last/2*k1)\n",
        "      k3 = func(xi[i-1] + h_last/2, yi[i-1] + h_last/2*k2)\n",
        "      k4 = func(xi[i-1] + h_last, yi[i-1] + h_last*k3)\n",
        "      y = yi[i-1] + h_last/6*(k1 + 2*k2 + 2*k3 + k4)\n",
        "      yi.append(y)\n",
        "      h_new = h_last/2\n",
        "      xi_new = xi[i-1] + h_new\n",
        "      k1 = func(xi[i-1], yi[i-1])\n",
        "      k2 = func(xi[i-1] + h_new/2, yi[i-1] + h_new/2*k1)\n",
        "      k3 = func(xi[i-1] + h_new/2, yi[i-1] + h_new/2*k2)\n",
        "      k4 = func(xi[i-1] + h_new, yi[i-1] + h_new*k3)\n",
        "      yi_new = yi[i-1] + h_new/6*(k1 + 2*k2 + 2*k3 + k4)\n",
        "      k1 = func(xi_new, yi_new)\n",
        "      k2 = func(xi_new + h_new/2, yi_new + h_new/2*k1)\n",
        "      k3 = func(xi_new + h_new/2, yi_new + h_new/2*k2)\n",
        "      k4 = func(xi_new + h_new, yi_new + h_new*k3)\n",
        "      _yi_.append(yi_new + h_new/6*(k1 + 2*k2 + 2*k3 + k4))\n",
        "      y_max.append(abs(yi[i] - _yi_[i]))\n",
        "      iter += 1\n",
        "      doubling.append(0)\n",
        "      division.append(0)\n",
        "      break\n",
        "    \n",
        "    flag = True\n",
        "    doub = 0\n",
        "    div = 0\n",
        "    while(flag):\n",
        "      k1 = func(xi[i-1], yi[i-1])\n",
        "      k2 = func(xi[i-1] + h/2, yi[i-1] + h/2*k1)\n",
        "      k3 = func(xi[i-1] + h/2, yi[i-1] + h/2*k2)\n",
        "      k4 = func(xi[i-1] + h, yi[i-1] + h*k3)\n",
        "      y = yi[i-1] + h/6*(k1 + 2*k2 + 2*k3 + k4)\n",
        "      h_new = h/2\n",
        "      xi_new = xi[i-1] + h_new\n",
        "      k1 = func(xi[i-1], yi[i-1])\n",
        "      k2 = func(xi[i-1] + h_new/2, yi[i-1] + h_new/2*k1)\n",
        "      k3 = func(xi[i-1] + h_new/2, yi[i-1] + h_new/2*k2)\n",
        "      k4 = func(xi[i-1] + h_new, yi[i-1] + h_new*k3)\n",
        "      yi_new = yi[i-1] + h_new/6*(k1 + 2*k2 + 2*k3 + k4)\n",
        "      k1 = func(xi_new, yi_new)\n",
        "      k2 = func(xi_new + h_new/2, yi_new + h_new/2*k1)\n",
        "      k3 = func(xi_new + h_new/2, yi_new + h_new/2*k2)\n",
        "      k4 = func(xi_new + h_new, yi_new + h_new*k3)\n",
        "      y_ = yi_new + h_new/6*(k1 + 2*k2 + 2*k3 + k4)\n",
        "      S = (y_ - y) / (2**p - 1)\n",
        "      if(eps/(2**(p+1)) <= abs(S) <= eps):\n",
        "        xi.append(xi[i-1] + h)\n",
        "        yi.append(y)\n",
        "        hi.append(h)\n",
        "        _yi_.append(y_)\n",
        "        y_max.append(abs(y - y_))\n",
        "        summa = summa + h\n",
        "        flag = False\n",
        "      elif(abs(S) <= eps/(2**(p+1))):\n",
        "        h = h * 2\n",
        "        xi.append(xi[i-1] + h)\n",
        "        yi.append(y)\n",
        "        hi.append(h)\n",
        "        _yi_.append(y_)\n",
        "        y_max.append(abs(y - y_))\n",
        "        doub += 1\n",
        "        summa = summa + h\n",
        "        flag = False\n",
        "      elif(abs(S) > eps):\n",
        "        h = h/2\n",
        "        div += 1\n",
        "        continue\n",
        "        \n",
        "    doubling.append(doub)\n",
        "    division.append(div)\n",
        "\n",
        "    if(iter == Nmax):\n",
        "      break\n",
        "    i += 1\n",
        "    iter += 1\n",
        "  \n",
        "  dict = {'xi':xi, 'hi':hi, 'yi':yi, '^yi':_yi_,\n",
        "          '|yi - ^yi|':y_max, 'Удвоение': doubling, 'Деление': division}\n",
        "  print(\"Справка:\")\n",
        "  print(f\"Условие задачи: y({x0})={y0} на интервале [{x0}, {xk}]\")\n",
        "  print(f\"Количество интераций: {iter}\")\n",
        "  print(f\"Максимальное значение погрешности: {max(y_max)}\")\n",
        "  print(f\"Всего удвоений: {sum(doubling)}\")\n",
        "  print(f\"Всего делений: {sum(division)}\")\n",
        "  print()\n",
        "  print(pd.DataFrame(dict))\n",
        "  print()\n",
        "  print(\"График нашего решения: \")\n",
        "\n",
        "  plt.plot(xi, yi, label=\"Метод Рунге-Кутты 4 порядка\")\n",
        "  plt.plot(xi, _yi_, label=\"Улучшенный метод Рунге-Кутты 4 порядка\")\n",
        "  plt.legend()\n",
        "  plt.show()\n",
        "  return xi, yi"
      ],
      "metadata": {
        "id": "8uKF-SNJGT3A"
      },
      "execution_count": null,
      "outputs": []
    },
    {
      "cell_type": "code",
      "source": [
        "xi_RK_4_2, yi_RK_4_2 = Runge_Kutta_4_2(1, 1, 5, 0.001, 0.2, -1, func)"
      ],
      "metadata": {
        "colab": {
          "base_uri": "https://localhost:8080/",
          "height": 838
        },
        "id": "hGsV2JIXMKUh",
        "outputId": "df3c77ea-7976-4190-83ec-89f4b7927c95"
      },
      "execution_count": null,
      "outputs": [
        {
          "output_type": "stream",
          "name": "stdout",
          "text": [
            "Справка:\n",
            "Условие задачи: y(1)=1 на интервале [1, 5]\n",
            "Количество интераций: 22\n",
            "Максимальное значение погрешности: 0.008405407729556558\n",
            "Всего удвоений: 5\n",
            "Всего делений: 6\n",
            "\n",
            "      xi    hi        yi       ^yi  |yi - ^yi|  Удвоение  Деление\n",
            "0   1.00  0.20  1.000000  1.000000    0.000000         0        0\n",
            "1   1.40  0.40  1.242607  1.242617    0.000011         1        0\n",
            "2   1.80  0.40  2.244193  2.246432    0.002239         0        0\n",
            "3   2.20  0.40  3.300831  3.309236    0.008405         0        0\n",
            "4   2.40  0.20  3.679687  3.681127    0.001439         0        1\n",
            "5   2.60  0.20  3.972073  3.973632    0.001559         0        0\n",
            "6   2.80  0.20  4.219264  4.220531    0.001267         0        0\n",
            "7   3.00  0.20  4.446360  4.447285    0.000925         0        0\n",
            "8   3.20  0.20  4.664563  4.665281    0.000718         0        0\n",
            "9   3.40  0.20  4.878185  4.878855    0.000670         0        0\n",
            "10  3.60  0.20  5.088916  5.089691    0.000775         0        0\n",
            "11  3.80  0.20  5.297476  5.298589    0.001113         0        0\n",
            "12  4.00  0.20  5.503963  5.506012    0.002048         0        0\n",
            "13  4.20  0.20  5.707122  5.712246    0.005124         0        0\n",
            "14  4.30  0.10  5.813697  5.814333    0.000636         0        1\n",
            "15  4.50  0.20  5.917349  5.917587    0.000238         1        0\n",
            "16  4.55  0.05  6.033481  6.034254    0.000773         0        2\n",
            "17  4.65  0.10  6.108822  6.109142    0.000320         1        0\n",
            "18  4.70  0.05  6.202131  6.202804    0.000673         0        1\n",
            "19  4.80  0.10  6.267952  6.268212    0.000260         1        0\n",
            "20  4.85  0.05  6.358288  6.359117    0.000829         0        1\n",
            "21  4.95  0.10  6.422220  6.422522    0.000302         1        0\n",
            "22  5.00  0.05  6.512403  6.513490    0.001087         0        0\n",
            "\n",
            "График нашего решения: \n"
          ]
        },
        {
          "output_type": "display_data",
          "data": {
            "text/plain": [
              "<Figure size 432x288 with 1 Axes>"
            ],
            "image/png": "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\n"
          },
          "metadata": {
            "needs_background": "light"
          }
        }
      ]
    },
    {
      "cell_type": "markdown",
      "source": [
        "Сравним метод Эйлера, метод Рунге-Кутты 2 порядка и метод Рунге-Кутты 4 порядка точности для дифференциального уравнения 1 порядка с варьированным шагом."
      ],
      "metadata": {
        "id": "_KP-HuLE43Io"
      }
    },
    {
      "cell_type": "code",
      "source": [
        "plt.plot(xi_Euler2, yi_Euler2, label=\"Метод Эйлера\")\n",
        "plt.plot(xi_RK2, yi_RK2, label=\"Метод Рунге-Кутты 2 порядка\")\n",
        "plt.plot(xi_RK_4_2, yi_RK_4_2, label=\"Метод Рунге-Кутты 4 порядка\")\n",
        "plt.legend()\n",
        "plt.show()"
      ],
      "metadata": {
        "colab": {
          "base_uri": "https://localhost:8080/",
          "height": 265
        },
        "id": "nXyNEi2D5EnG",
        "outputId": "9440cc82-cda5-4d70-afa7-4f3b4c41e5cb"
      },
      "execution_count": null,
      "outputs": [
        {
          "output_type": "display_data",
          "data": {
            "text/plain": [
              "<Figure size 432x288 with 1 Axes>"
            ],
            "image/png": "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\n"
          },
          "metadata": {
            "needs_background": "light"
          }
        }
      ]
    },
    {
      "cell_type": "markdown",
      "source": [
        "Самым точным методом при решении дифференциального уравнения 1 порядка с варьированным шагом оказался метод Рунге-Кутты 2 порядка."
      ],
      "metadata": {
        "id": "lZXA60ZjVcEi"
      }
    },
    {
      "cell_type": "markdown",
      "source": [
        "# Задание 3."
      ],
      "metadata": {
        "id": "EuzgZfpWvGii"
      }
    },
    {
      "cell_type": "markdown",
      "source": [
        "Наше дифференциальное уравнение 2 порядка:"
      ],
      "metadata": {
        "id": "ilHpqQWwlugy"
      }
    },
    {
      "cell_type": "code",
      "source": [
        "def func_2p(x, y):\n",
        "  return e**(3 * x) * cos(x) + 9*y"
      ],
      "metadata": {
        "id": "ZhVLgZ9tvWAK"
      },
      "execution_count": null,
      "outputs": []
    },
    {
      "cell_type": "markdown",
      "source": [
        "Полученное аналитическое решение нашего уравнения:"
      ],
      "metadata": {
        "id": "oDPgyXa6lzee"
      }
    },
    {
      "cell_type": "code",
      "source": [
        "def y_exact(x):\n",
        "  return (6*e**(3*x)*sin(x))/37 - (e**(3*x) * cos(x))/37 + e**(3*x) + 38/(37*e**(3*x))"
      ],
      "metadata": {
        "id": "rVmi0_GCjOCy"
      },
      "execution_count": null,
      "outputs": []
    },
    {
      "cell_type": "markdown",
      "source": [
        "Напишем функцию Эйлера для решения дифференциального уравнения 2 порядка с постоянным шагом."
      ],
      "metadata": {
        "id": "loomppW_xkal"
      }
    },
    {
      "cell_type": "code",
      "source": [
        "def Euler_2p_1(y0, yy0, x0, xk, e, h, Nmax, func, p=1):\n",
        "  xi = []\n",
        "  yi = []\n",
        "  ti = []\n",
        "  hi = []\n",
        "  _yi_ = []\n",
        "  y_max = []\n",
        "  _xi_ = []\n",
        "  ti.append(x0)\n",
        "  yi.append(y0)\n",
        "  _yi_.append(y0)\n",
        "  y_max.append(0)\n",
        "  xi.append(yy0)\n",
        "  _xi_.append(yy0)\n",
        "  hi.append(h)\n",
        "\n",
        "  i = 1\n",
        "  summa = x0\n",
        "  iter = 0\n",
        "  while(summa < xk):\n",
        "    ti.append(ti[i-1] + h)\n",
        "    hi.append(h)\n",
        "    x = xi[i-1] + h * func(ti[i-1], yi[i-1])\n",
        "    xi.append(x)\n",
        "    y = yi[i-1] + xi[i-1] * h\n",
        "    yi.append(y)\n",
        "\n",
        "    #Считаем погрешность и разницу \n",
        "    h_new = h/2\n",
        "    t_new = ti[i-1] + h_new\n",
        "    xi_new = xi[i-1] + h_new * func(ti[i-1], yi[i-1])\n",
        "    yi_new = yi[i-1] + xi[i-1] * h_new\n",
        "    _xi_.append(xi_new + h_new * func(t_new, yi_new))\n",
        "    _yi_.append(yi_new + xi_new * h_new)\n",
        "    y_max.append(abs(yi[i] - _yi_[i]))\n",
        "\n",
        "    if(iter == Nmax):\n",
        "      break\n",
        "    summa += h\n",
        "    i += 1\n",
        "    iter += 1\n",
        "  \n",
        "  dict = {'xi':ti, 'hi':hi, 'yi':yi, '^yi':_yi_, '|yi - ^yi|':y_max}\n",
        "  print(\"Справка:\")\n",
        "  print(f\"Условие задачи: y({x0})={y0}, y'({x0})={yy0} на интервале [{x0}, {xk}]\")\n",
        "  print(f\"Количество интераций: {iter}\")\n",
        "  print(f\"Максимальное значение погрешности: {max(y_max)}\")\n",
        "  print()\n",
        "  print(pd.DataFrame(dict))\n",
        "  print()\n",
        "  print(\"График нашего решения: \")\n",
        "\n",
        "  f2 = np.vectorize(y_exact)\n",
        "  plt.plot(ti, yi)\n",
        "  if(iter == Nmax):\n",
        "    N = Nmax * h\n",
        "    x_ = np.arange(x0, N, h)\n",
        "    plt.plot(x_, f2(x_), label=\"Аналитическое решение\")\n",
        "  else:\n",
        "    x_ = np.arange(x0, xk, h)\n",
        "    plt.plot(x_, f2(x_), label=\"Аналитическое решение\")\n",
        "  plt.plot(ti, yi, label=\"Метод Эйлера\")\n",
        "  plt.plot(ti, _yi_, label=\"Улучшенный метод Эйлера\")\n",
        "  plt.legend()\n",
        "  plt.show()\n",
        "  return ti, yi"
      ],
      "metadata": {
        "id": "x1F-dXM-z2yo"
      },
      "execution_count": null,
      "outputs": []
    },
    {
      "cell_type": "code",
      "source": [
        "ti_Euler_2p_1, yi_Euler_2p_1 = Euler_2p_1(2, 0, 0, 1, 0, 0.02, 200, func_2p)"
      ],
      "metadata": {
        "colab": {
          "base_uri": "https://localhost:8080/",
          "height": 1289
        },
        "id": "q5EZW5dvMy7j",
        "outputId": "c7795314-0458-49f3-9dd7-dcecb4a29312"
      },
      "execution_count": null,
      "outputs": [
        {
          "output_type": "stream",
          "name": "stdout",
          "text": [
            "Справка:\n",
            "Условие задачи: y(0)=2, y'(0)=0 на интервале [0, 1]\n",
            "Количество интераций: 50\n",
            "Максимальное значение погрешности: 0.018553060250113163\n",
            "\n",
            "      xi    hi         yi        ^yi  |yi - ^yi|\n",
            "0   0.00  0.02   2.000000   2.000000    0.000000\n",
            "1   0.02  0.02   2.000000   2.001900    0.001900\n",
            "2   0.04  0.02   2.007600   2.009506    0.001906\n",
            "3   0.06  0.02   2.022825   2.024744    0.001919\n",
            "4   0.08  0.02   2.045727   2.047667    0.001940\n",
            "5   0.10  0.02   2.076390   2.078358    0.001968\n",
            "6   0.12  0.02   2.114924   2.116928    0.002003\n",
            "7   0.14  0.02   2.161471   2.163517    0.002046\n",
            "8   0.16  0.02   2.216201   2.218297    0.002096\n",
            "9   0.18  0.02   2.279314   2.281468    0.002154\n",
            "10  0.20  0.02   2.351044   2.353265    0.002220\n",
            "11  0.22  0.02   2.431655   2.433950    0.002295\n",
            "12  0.24  0.02   2.521444   2.523822    0.002377\n",
            "13  0.26  0.02   2.620743   2.623212    0.002469\n",
            "14  0.28  0.02   2.729916   2.732486    0.002569\n",
            "15  0.30  0.02   2.849368   2.852048    0.002680\n",
            "16  0.32  0.02   2.979538   2.982337    0.002799\n",
            "17  0.34  0.02   3.120905   3.123835    0.002929\n",
            "18  0.36  0.02   3.273991   3.277061    0.003070\n",
            "19  0.38  0.02   3.439357   3.442579    0.003222\n",
            "20  0.40  0.02   3.617612   3.620998    0.003386\n",
            "21  0.42  0.02   3.809411   3.812972    0.003562\n",
            "22  0.44  0.02   4.015456   4.019206    0.003750\n",
            "23  0.46  0.02   4.236502   4.240455    0.003953\n",
            "24  0.48  0.02   4.473359   4.477528    0.004169\n",
            "25  0.50  0.02   4.726892   4.731292    0.004400\n",
            "26  0.52  0.02   4.998026   5.002674    0.004648\n",
            "27  0.54  0.02   5.287751   5.292662    0.004911\n",
            "28  0.56  0.02   5.597120   5.602313    0.005192\n",
            "29  0.58  0.02   5.927259   5.932751    0.005492\n",
            "30  0.60  0.02   6.279366   6.285177    0.005811\n",
            "31  0.62  0.02   6.654717   6.660868    0.006151\n",
            "32  0.64  0.02   7.054672   7.061184    0.006512\n",
            "33  0.66  0.02   7.480674   7.487570    0.006896\n",
            "34  0.68  0.02   7.934262   7.941567    0.007305\n",
            "35  0.70  0.02   8.417069   8.424808    0.007739\n",
            "36  0.72  0.02   8.930831   8.939031    0.008200\n",
            "37  0.74  0.02   9.477393   9.486082    0.008690\n",
            "38  0.76  0.02  10.058713  10.067923    0.009210\n",
            "39  0.78  0.02  10.676872  10.686634    0.009761\n",
            "40  0.80  0.02  11.334077  11.344424    0.010347\n",
            "41  0.82  0.02  12.032671  12.043639    0.010969\n",
            "42  0.84  0.02  12.775139  12.786767    0.011628\n",
            "43  0.86  0.02  13.564119  13.576446    0.012327\n",
            "44  0.88  0.02  14.402408  14.415477    0.013069\n",
            "45  0.90  0.02  15.292972  15.306827    0.013855\n",
            "46  0.92  0.02  16.238955  16.253644    0.014689\n",
            "47  0.94  0.02  17.243694  17.259266    0.015572\n",
            "48  0.96  0.02  18.310721  18.327230    0.016509\n",
            "49  0.98  0.02  19.443783  19.461285    0.017501\n",
            "50  1.00  0.02  20.646851  20.665404    0.018553\n",
            "\n",
            "График нашего решения: \n"
          ]
        },
        {
          "output_type": "display_data",
          "data": {
            "text/plain": [
              "<Figure size 432x288 with 1 Axes>"
            ],
            "image/png": "iVBORw0KGgoAAAANSUhEUgAAAXoAAAD4CAYAAADiry33AAAABHNCSVQICAgIfAhkiAAAAAlwSFlzAAALEgAACxIB0t1+/AAAADh0RVh0U29mdHdhcmUAbWF0cGxvdGxpYiB2ZXJzaW9uMy4yLjIsIGh0dHA6Ly9tYXRwbG90bGliLm9yZy+WH4yJAAAgAElEQVR4nO3dd3hUxdfA8e+khwQIJXQCQQEphgChKUhRAZEfoCBFOiIoRcVeQFCxoNhREWmiGBSUooAU6U0MECDUUAKElkZCCmm78/6xy74pGxJI2WxyPs+TJ7t3bjk3hLM3c+eeUVprhBBClFwOtg5ACCFE4ZJEL4QQJZwkeiGEKOEk0QshRAkniV4IIUo4J1sHYE3lypV13bp1bR2GEELYjX379kVprb2ttRXLRF+3bl2CgoJsHYYQQtgNpdS5nNqk60YIIUo4SfRCCFHCSaIXQogSrlj20VuTlpZGeHg4ycnJtg5FiDvm5uZGrVq1cHZ2tnUoohSxm0QfHh5O2bJlqVu3LkopW4cjxG3TWhMdHU14eDi+vr62DkeUInbTdZOcnEylSpUkyQu7pZSiUqVK8lepKHJ2k+gBSfLC7snvsLAFu0r0Qghh90L+gP2LwGgsskNKor9NK1asQCnF8ePHbR2KEMLeGNJh4zRToi/Cv+4k0d+mwMBA2rdvT2BgoK1DEULYm6MrIPYc3P+CJPriKiEhgR07djBv3jyWLFliWb5lyxZ69uxpeT9z5kymTZsGwA8//ECrVq1o1qwZffv2JSkpybLeiBEj8PX1xd/fHxcXF6KiojLtKyYmBi8vL2bOnMn27dvx9/encePGuLu74+/vj7+/P2AqGREVFQXAkCFDaNq0KQDTpk1j5syZAISFhVmWGwwGXnnlFVq1aoWfnx/ff/+9JaYZM2Zw77330qxZM15//XUAOnXqRFBQEAaDgV69erFgwQIAgoODadu2LX5+fjz22GNcu3YNgNOnT9O9e3datmxJhw4drP71M23aNIYOHUq7du2oX78+P/zwg6Xtk08+scQ2derUbPEDeHp6Wl63b9+ekJAQANavX0+7du1o0aIFTzzxBAkJCdl+RlFRUdyspbRw4UImTJgAwIkTJ3BycmLZsmUA7Nu3j44dO9KyZUu6devG5cuXs52HEHmmNez4Aio3gIY9ivTQdjO8MpO1r8OVwwW7z2r3wiMf3XKVlStX0r17dxo0aEClSpXYt28fLVu2vOU2jz/+OE8//TQAkydPZt68eUycOBEwJdxPP/2Uxx9/HGtF3D788EN8fHwA6NChA8HBwYSFhdGzZ0+Cg4OzrX/48GFLwgNwcHDA2lSR8+bNo3z58vz333+kpKRw//3307VrV44fP87KlSv5999/KVOmDDExMZm2Gzt2LG3btmXkyJEADBs2jK+//pqOHTvy9ttv88477/DFF18wZswYZs+eTf369fn3338ZN24cmzZtyhbHoUOH2LNnD4mJiTRv3pxHH32UkJAQQkND2bt3L1prevXqxbZt2yw/h1uJiopi+vTpbNy4EQ8PD2bMmMFnn33G22+/neu2AFOmTKFRo0aA6bmNiRMnsnLlSry9vfn111956623mD9/fp72JUQ2p/6Bq4eh9zfgULTX2PaZ6G0kMDCQ559/HoCBAwcSGBhoSfQ3r7gBIiMjLck9JCSEyZMnExsbS0JCAt26dbPs78aNG7i5uVk91sWLF9mzZw+PPfZYnuObPHky77zzDm+99RYAtWrVYuPGjdnWW79+PYcOHbJcucbFxREaGsrGjRsZOXIkZcqUAaBixYqWbaZNm8bevXu5cOGCZZvY2Fg6duwIwPDhwy1X0Lt27eKJJ56wbJuSkmI13t69e+Pu7o67uzudO3dm79697Nixg/Xr19O8eXPA9FdUaGhonhL9nj17OHr0KPfffz8AqamptGvXztLeuXNnHB0dMRgM2bYNCgrCaDRa/j1PnDhBSEgIDz/8MGD6UK5evXquMQiRo51fQNkacG//Ij+0fSb6XK68C0NMTAybNm3i8OHDKKUwGAwopfjkk08A0xX3X3/9BZi6bm52GYwYMYIVK1bQrFkzFi5cyJYtWyz7vHTpEjVq1LB6vHfeeYcpU6awa9euPMW3a9cuPD09adasmWXZgAED+PPPP2natClGoxEH81WE1pqvv/4604cOwLp163Lcv6urK2PHjuX999/n3XffzXE9o9GIl5eX1b84sso61FAphdaaN954g7Fjx2ZqCwsLy3V/WmsefvjhHO+fbN68mcqVKxMVFUVAQECmtilTpvDZZ58xY8YMy76aNGnC7t27cz2uELkKD4Kw7dD1fXBysbrKyk/fxXDkMF2/nItn2fIFenjpo8+jZcuWMXToUM6dO0dYWBgXLlzA19eX7du333K7+Ph4qlevTlpaGosXL7YsP3XqFGFhYTRu3DjbNqdPnyYsLIyuXbvmOb5p06ZlS8AeHh4sX76ckJAQ1qxZY1nerVs3vvvuO9LS0gA4efIkiYmJPPzwwyxYsMByHyFj180bb7zB5MmTWblyJUeOHKF8+fJUqFDBcv4//fQTHTt2pFy5cvj6+rJ06VLAlDAPHjxoNeaVK1eSnJxMdHQ0W7ZsoVWrVnTr1o358+dbPigvXrxIREREnn4Gbdu2ZefOnZw6dQqAxMRETp48met2W7dupXr16pZuG4CGDRsSGRlpSfRpaWkcOXIkT3EIkc2Oz8GtPLQcbrXZkJKC129LcTp7AkdX63/l54d9XtHbQGBgIK+99lqmZX379iUwMJABAwbkuN17771HmzZt8Pb2pk2bNsTHx3Pp0iV69+7NnDlzcHHJ/ul+/Phxyw3PvGrTpg133XVXnq58R48eTVhYGC1atEBrjbe3NytWrKB79+4EBwcTEBCAi4sLPXr04IMPPrBs5+rqyrfffsuYMWPYvn07P/74I8888wxJSUnUq1fPEvPixYt59tlnmT59OmlpaQwcODDTXxo3+fn50blzZ6KiopgyZQo1atSgRo0aHDt2zNLl4unpyc8//4yjoyNnz56lffv2gKnb6+brw4dN92u8vb1ZuHAhgwYNsnQXTZ8+nQYNGtzy5xEaGsrq1aszLXNxcWHZsmU899xzxMXFkZ6ezgsvvECTJk1y/fkKkUlUKBxfDR1eAteyVldZ8dX7NI5L5/DAx3F3cS3wEJS1m3W2FhAQoLNOPHLs2LFMV1zCvk2bNg1PT09efvllW4dS5OR3uZRZOQEOL4UXQsAz+wRQhtRUtj8QQIKrpvOG//BwubMreqXUPq11gLU26boRQojCcv0SHFwCzYdYTfIAq775iKqxaZz53yN3nORzk2vXjVKqNrAIqApoYI7W+kulVEXgV6AuEAb011pfs7L9cGCy+e10rfWPBRO6sGc3nzMQokTb8y1oA7SbYLXZkJZG+d+WEebtyIgJ0wotjLxc0acDL2mtGwNtgfFKqcbA68A/Wuv6wD/m95mYPwymAm2A1sBUpVSFggpeCCGKrRvXIGgBNHkMKlovS/3XdzOpfi2N0J5dKedWptBCyTXRa60va633m1/HA8eAmkBv4ObV+Y9AHyubdwM2aK1jzFf7G4DuBRG4EEIUa//Ng9QEuP95q83aaMTj1yWcr+zIsIk5D1kuCLfVR6+Uqgs0B/4Fqmqtbz4TfgVT105WNYELGd6Hm5dZ2/cYpVSQUiooMjLydsISQojiJTUR9nwHdz0I1bOPOAP4c/an1IxO5Xj3LniV8bS6TkHJc6JXSnkCvwMvaK2vZ2zTpqE7+Rq+o7Weo7UO0FoHeHtbv2khhBB24b95kBQFHV+z2qyNRtwCfyG8ogPDXphe6OHkKdErpZwxJfnFWus/zIuvKqWqm9urA9aearkI1M7wvpZ5mV1SSjFkyBDL+/T0dLy9vTMVNCtKn376Kc2aNcPPz4/mzZuzaNGiTO2ff/45rVu3pkuXLly9etUmMQpR6qQmwa6voF4n8GljdZW1876idmQyR7p1pIJnuUIPKS+jbhQwDzimtf4sQ9MqYDjwkfn7SiubrwM+yHADtivwRr4itiEPDw9CQkK4ceMG7u7ubNiwgZo1rfZEFYlatWqxb98+nJyciIuLo3///lSpUoXu3U23QSZNmsSkSZNsFp8QpVLQfEiMhI7ZxqcApqfFHX5exKUKDgyZ9H6RhJSXK/r7gaFAF6VUsPmrB6YE/7BSKhR4yPwepVSAUmougNY6BngP+M/89a55md3q0aOH5SnKwMBABg0aZGlLTExk1KhRtG7dmubNm7Nypemzr3Pnzvj7++Pp6UnDhg3x9/dn1apVxMTE0KdPH/z8/Gjbti2HDh2y7GvmzJlUq1YNf39/KlasaClAltGAAQNwcjJ9VpcvX56PP/7Y8iTriBEjLNvMnTsXpZSlTG9YWJil1LGPj4+lTG9O5YVHjBjBM888Q0BAAA0aNLDU9AkLC6NDhw60aNGCFi1a5LkujxAlVmoS7PwSfB+AOu2srrLux++oc/UGhx++n8rlimYQYq5X9FrrHUBOFfIftLJ+EDA6w/v5QIHWdp2xdwbHYwp2hqd7Kt7Da62t96dlNHDgQN5991169uzJoUOHGDVqlKXey/vvv0+XLl2YP38+sbGxtG7dmoceeojNmzcDprruM2fOtBTUmjhxIs2bN2fFihVs2rSJYcOGWYqBGQwGxo0bx9tvv82IESNyjKdDhw7Ex8cDpoJiFy9m7hlLTk5m9uzZVKlSxbLMYDBQv359goODWbhwITefQr5VeeGwsDD27t3L6dOn6dy5M6dOnaJKlSps2LABNzc3QkNDGTRoEFmfaBaiVNm3EBIjoONCq81aa1gwlyteioEvflhkYUmtm9vk5+dHWFgYgYGB9OiRefKA9evXs2rVKstkH8nJyZw/fz7Hx9137NjB77//DkCXLl2Ijo7m+vXrlCtXjoSEBKpWtTaQKbOMRdXOnDlDq1atMrV/8803DB8+nE8//dSyzFp55NzKC/fv3x8HBwfq169PvXr1OH78OL6+vkyYMIHg4GAcHR3zVEBMiBIr7YapFHHdDlD3fqurrPnhc+pdvcHfAzrQ2atSkYVml4k+L1fehalXr168/PLLbNmyhejoaMtyrTW///47DRs2zPcxzp49m+ukJllt2bIlU9Gt69evs2TJEnbu3Jkp0Vsrj5xbeWFrJYU///xzqlatysGDBzEajTnW1heiVNj3IyRchb7zrDYb0tJwW/gj4ZUcGP7yJ0UamtS6uQOjRo1i6tSp3HvvvZmWd+vWja+//toyq9OBAwduuZ8OHTpYShdv2bKFypUrU65cOWJjY9mxYwcPPpitZyyTyZMnW7ptwsLCmD59umX6PzCNupk4cWK2CplLly61TM5xU27lhZcuXYrRaOT06dOcOXOGhg0bEhcXR/Xq1XFwcOCnn36yOqGHEKVCWrLpar7O/eDbweoqK7/6gBoxqRzr1Y2KBVxvPjd2eUVva7Vq1eK5557LtnzKlCm88MIL+Pn5YTQa8fX1tdy4tGbatGmMGjUKPz8/ypQpw48/mh407tq1KxEREXToYPqFOX/+PFu3bqVfv36Ztq9UqRIdOnQgPT0dg8HAlClTMnUnaa0zDQcFePXVV0lMTGT8+PHZ4rlVeWEfHx9at27N9evXmT17Nm5ubowbN46+ffuyaNEiunfvjoeHRx5/gkKUMAd+gvjL8Nhsq82G5GQq/baM01WdGPX8B1bXKVRa62L31bJlS53V0aNHsy0rqTp27JhtWd++fYs+ELPhw4frpUuX2uz4JU1p+l0uFdKStf60kdZzu2ptNFpdZck7L+mjDe/Rs76cUmhhAEE6h5wqXTfFkLXJrGU8vBDF1IGf4PpF6PQaqOwDFJPj46m9ci3Harkw+tkpNghQum6KpS5dumRblrVPvSgtXLjQZscWolhLS4btn0Gt1lCvs9VV/pj+Cs0TjRwdNwRXZ+ciDtBEEr0QQtypoHmmq/k+31m9mo+PiqL+um0E13Nn1MiXbBCgiXTdCCHEnUiJh+2fmmra1OtodZVV776IZ7ImbfgYHBxsl24l0QshxJ3Y/Q0kRcOD2e+pAURfvECjzf+xt2FZhjwxpoiDy0wSvRBC3K7EaNg1Cxr9D2paf7Bx7bRJuKaDx5gXbHo1D5Lo82zo0KF8/fXXlvdLly6la9euNoyoaNhbqWMp3SyKxI7PIC0RulgfRXMm5CB+u46wu2lF+j36ZBEHZ0VO4y5t+VUcx9Fv3rxZ+/v7W95369ZNL1myxIYRCWuWLFmi09LStNZax8bG6q5du+q1a9faOKrMbP27LPIp9oLW73prvfzZHFcJ7PugPtDkHv3Pro1FFhYyjj7/OnbsSHx8PPv37+fChQvs37+fPn3+f5pcR0dH/P39ufvuu+nZsyfx8fH4+vqSlpYGmOrO3Hxft25dS8ngadOmWYqgderUyVL9ccKECZZhjXPnzuXll18GIDIykr59+9KqVStatWrFzp07s+0HoGfPnmzZsgUAT8//n6YsKCiITp06Wd0GYNmyZZZqmbcqdZyRUipT6YW2bdtajiGlm6V0c4mzdQagoZP1evP/rltFs5CLbGvrS5d2ty5jUlTscnjllQ8+IOVYwZYpdm10D9XefDPHdqUUI0eOZP78+VStWpVBgwbh6uoKmMr+enh4EBwczJYtW5g5cyZly5alU6dOrF69mj59+rBkyRIef/xxnJ2dcXBwsNTDuV3PP/88kyZNon379pw/f55u3bpx7NixO9pXXlkrdZyRh4cH+/btw2AwWBLhTVK6WUo3lyhRp+DAYmj9NHj5ZGvWWhPxyXSMZeDhyV/YIEDr7DLR28qIESMsV6E3r0zBetlfgNGjR/Pxxx/Tp08fFixYwA8//ACYauUcOHDgjvr4N27cyNGjRy3vr1+/TkJCAmDqf/75558BU/XLm38F3LhxA39/f8vr6tWrW7a/uY2Hh0emCpcZWSt1nFW3bt34+++/2bx5MyNHjiQwMBCQ0s1SurmE2TwdnNygw8tWm9fO+4q7w+NZ27s1L9ZtUMTB5SwvUwnOB3oCEVrrpuZlvwI3a/F6AbFaa38r24YB8YABSNdaBxRE0Le68i5MNWvWpHXr1kRERODn52dZbq3sL5ieZg0LC2PLli0YDAaaNm0KwAcffMCECRN49dVXuXLliiUh54XRaGTPnj1WP1gmTZpk2VfGeWzd3d0tV8VBQUGZjndzm40bN/Liiy/y4osvZtpnTqWOsxo6dCjjxo3j+vXrDBw40JLotZRuvq14RTF2KRiOLIcHXgVP72zNhuRk3OfOI7ySA8PeKj5X85C3UTcLge4ZF2itB2it/c3J/XfgD2sbmnU2r1sgSd7W3N3deeqppzIt++2333IsUTBs2DCefPJJRo4caVnWvn17goODCQ4O5plnnrmt43ft2jXT6J+cktDtqlSpEqmpqdmW51TqOKuqVatSoUKFTFe/IKWbpXRzCbLpPXCvAPdNsNq87MM3qRabxvF+vYpsisC8ystUgtuUUnWttZknDu8PZC/OUsIkJSXRsGFD6tevz9ChQy3Lv/rqK3bu3GkpMZzV4MGDmTx5cqa5ZW9l9OjReHp6cubMGdavX8/cuXO5evUqvXv3thxv/Pjx+Pn5kZ6ezgMPPMDs2dZLo+bFN998w4oVK0hKSuLDDz+0JMmbtJVSxzmZO3cuQKY+aSndLKWbS4TTm+DURug6Hdyy15KPi4yg7qq/CfFxZcyEd20QYC5yGo6T8QuoC4RYWf4AtxjSA5wF9gP7gDF5OZYupsMr79TSpUv1kCFDbB2G3StJpZvt9Xe51DKka/1NO60/v9dUktiKn8YO0CEN79GLfv2+iIP7f7fKxfm9GTsICLxFe3ut9UWlVBVgg1LquNZ6m7UVlVJjgDFgulIqCSZOnMjatWtZs2aNrUOxe1K6WdhM8GKIOAJPLAQn12zNYUcPce/2g+xuWoHR/W1b6iAnSudhmJ+56+Yvbb4Za17mBFwEWmqtw/Owj2lAgtZ6Zm7rBgQE6KxD0o4dO5bjSA0h7In8LtuRlHj4uiVUqAuj1lmtULnkiYdpdCycyDlf89B9DxV9jGZKqX06h3uh+Xlg6iHgeE5JXinloZQqe/M10BUIycfx7njsuRDFhfwO25mdX5om/O72gdUkv/PPZTQ7HM7WNnVtmuRzk2uiV0oFAruBhkqpcKXUzSEnA8nSbaOUqqGUutlPURXYoZQ6COwFVmut/77TQN3c3IiOjpb/KMJuaa2Jjo6WIZf2Ii7cVLisaT+olf1C2ZCWRvzMD4j2VHR9e5YNAsy7vIy6sTpcRGs9wsqyS0AP8+szQLN8xmdRq1YtwsPDiYyMLKhdClHk3NzcqFWrlq3DEHnxz3ugjfDQVKvNf3w8haZXb7Bu8IO8UOeuIg7u9tjNk7HOzs74+vraOgwhRGlwcT8cWgLtJ1ktdRBz5RI+y1ZxtLYLT7+W621Hm5OiZkIIkZHWsH4ylKkM7V+0usqa1581zRz17At4uBT/rjhJ9EIIkdHxv+DcTuj8JriVy9a8f9sGmv97km0tqjLw8ZFWdlD8SKIXQoib0lNgw9vgfQ+0GJ6tWWtN+HtvkeAGbad8ZYMA74wkeiGEuGn3LIg5A93eB8fstzBXzvqI+hfi2dW9Dc3v8bOyg+JJEr0QQoBpOOW2mXBPT7g7+5j4hLhrVP5xMWeqOjFy8tdWdlB8SaIXQgiAdW+ZhlN2+8Bq84o3xlMpwcDVUU/h5VG2iIPLH0n0QghxejMcXQEdXoIKdbI1H/tvF35bD7CzaQVGDH3OBgHmjyR6IUTplp4Ka1811bO5L3sS11oT+uYkUpyh8ZRPcXCwv7RpfxELIURB+nc2RJ2E7jPAOfuY+D9mTqX+hevs6NGW+5q1s0GA+SeJXghRel2/DFtnQIPu0LB7tubIi+epvXgZx2u68PSUb20QYMGQRC+EKL3WTwZDGnT/0Grzxpeexj1VY5j0Gp7u7kUcXMGRRC+EKJ3OboeQZXD/81CxXrbmTUsX4R98ns33+dKv55M2CLDgSKIXQpQ+hjTTDdjyPqbCZVkkJybCZzO57OVA7+lzbBBgwZJEL4QofXbPgoij8MhH4FImW/OyN56l+rU0Tg4bSJ1q9l9WWhK9EKJ0iT4NWz4yPQF7z6PZmo/8u5NmG/9jdxMvxjzzlg0CLHiS6IUQpYfW8NckcHSBHp9kbzYaOTV5Esku0OTtL+xyzLw1eZlKcL5SKkIpFZJh2TSl1EWlVLD5q0cO23ZXSp1QSp1SSr1ekIELIcRtOxgIZ7eaZo0qVyNb82/TX6XBhXh2PHofbZq1sUGAhSMvH1cLgewDTOFzrbW/+WtN1kallCPwDfAI0BgYpJRqnJ9ghRDijiVEwro3oXZbaDkqW/PpkGAaLF3NobrujJn6jQ0CLDy5Jnqt9TYg5g723Ro4pbU+o7VOBZYAve9gP0IIkX/r3oCUBPjfl5ClS0YbjRx+6RmMCipO+cguZo26HfnpgJqglDpk7tqpYKW9JnAhw/tw8zKrlFJjlFJBSqkgmQBcCFGgQjfC4aXQ4UWock+25t/ef52G5+LY9mgbHr6/qw0CLFx3mui/A+4C/IHLwKf5DURrPUdrHaC1DvD29s7v7oQQwiQ1EVZPgsoNTNUpszhz5CD1f/uTw3XcGPPObBsEWPjuKNFrra9qrQ1aayPwA6ZumqwuArUzvK9lXiaEEEVn8wcQe97UZePkmqlJa82hl54BBRVKYJfNTXeU6JVS1TO8fQwIsbLaf0B9pZSvUsoFGAisupPjCSHEHbm4D/Z8Cy1HQJ37sjUv/eB1GobFsvWR1jzcvlvRx1dEsk+KmIVSKhDoBFRWSoUDU4FOSil/QANhwFjzujWAuVrrHlrrdKXUBGAd4AjM11ofKZSzEEKIrNKSYfmz4FkNHnonW3PYscPcvWQVIT5ujHnvexsEWHRyTfRa60FWFs/LYd1LQI8M79cA2YZeCiFEods8HaJOwJDfwd0rU5PWmgMvjqGOgvKTPyyxXTY3lYzHvoQQIqPze2DXLFOXjZWJvpe+8zL3nI1la/dWdH3A2mNCJYskeiFEyZKaCCueBa/a0HV6tuaQPdtpuGwNB+uVYUwJqEyZF7l23QghhF3Z+A7EnIHhf4Jr2UxNqTduEP7qc1RwBp/3vy7xXTY3yRW9EKLkOLsN9n4PrceC7wPZmn97YQR1IpLZO6QX9zXPPgqnpJJEL4QoGVLiYeV402xRD03N1rxp6U8033qIrc29GT/J+tSBJZV03QghSob1kyH2Aoz6G1w8MjVdi7iCy8czuFLBgYdnLiox5YfzqnSdrRCiZArdAPsWwn0TwKdtpiatNeufHUz5RAOXn3+Ou2rWtUmItiSJXghh3xIiTKNsqjSGzpOzNa/4/D38jlzin04NGTJwrA0CtD3puhFC2C+j0ZTkU+JNo2ycM4+iOXVoPz4LAzlWy5XhHy+yUZC2J1f0Qgj79e9sOLURur0PVRplakq9cYPQ50ZjVOD59kdU8CxnoyBtTxK9EMI+XT4EG6dCwx4Q8FS25qXjB1P3yg32DO5ZKp5+vRVJ9EII+5OaBL8/Be4VodcsUCpT81/ff0aLXcfY1LoG41+eYaMgiw/poxdC2J91b0JUKAxbAR6VMjWdOrSfat/O5VQ1Zx7/IrDUDaW0Rn4CQgj7cuxP2LcA7n8O6nXK1JR64wYnnxuNRuP67gyqV6xikxCLG0n0Qgj7EXcRVk2EGs2tDqX8bfxgfK/cYM+QnnR94BEbBFg8SaIXQtgHQxosG2n63nceOLlkav7z+89oebNf/iXpl89I+uiFEPZh4zS48C/0mw+V7srUdPLgPqqb++X7fvmr9MtnketPQyk1XykVoZQKybDsE6XUcaXUIaXUcqWUVw7bhimlDiulgpVSQQUZuBCiFDm6CnbPMlWlbNo3U1NCXCxnJzyFVqZ++WoVKtsoyOIrLx97C4Gsg1A3AE211n7ASeCNW2zfWWvtr7UOuLMQhRClWvRpU1XKmgHZJhLRWvPXU32pFZXCvtEDpV8+B7kmeq31NiAmy7L1Wut089s9QK1CiE0IUdqlJsFvw8DBEZ5YmK1fPvDN8TQLucAUTH0AAB3oSURBVMSGBxvzzITspYmFSUF0ZI0C1ubQpoH1Sql9Sqkxt9qJUmqMUipIKRUUGRlZAGEJIezemlfg6hF4fK5pasAMNi5ZQLMVm9nbsBxjP/vFRgHah3wleqXUW0A6sDiHVdprrVsAjwDjlVLZp3wx01rP0VoHaK0DvL298xOWEKIk2P8TBP8MD7wC9TNP8H3q8AHKffQJ4ZUcuX/WEtxdXG0UpH2440SvlBoB9AQGa621tXW01hfN3yOA5UDrOz2eEKIUuXwI1rwMvh2h0+uZmpKux3Fq/CiU1hje+YC7a/vaKEj7cUeJXinVHXgV6KW1TsphHQ+lVNmbr4GuQIi1dYUQwiIxCpYMNtWx6TvP1D9vprVm5eh+1I5I5r9R/ejxYC8bBmo/8jK8MhDYDTRUSoUrpZ4CZgFlgQ3moZOzzevWUEqtMW9aFdihlDoI7AVWa63/LpSzEEKUDIY0+G04JEbAwMXgmbkbN/DN8fgfCmdDl4aMe/49GwVpf3J9YEprPcjK4nk5rHsJ6GF+fQZolq/ohBCly9rX4NwOePwHqNkiU9Nfc7+g2fLN7L2nHE9/scRGAdoneXxMCFE8BM2HoHlw33Pg1z9T095/1lDzy+85Xd2ZzrOX4+HilsNOhDVSAkEIYXvndpmGUt79EDw0LVPT+dATpL32CsnuCu/PvsenWg2bhGjP5IpeCGFbsefh16FQoW62m68JcbEcHT0Q91QjEW++Qbvm7WwXpx2TRC+EsJ3URFjyJBhSYdAScP//slmG9HTWDOtN7Yhk9jzVl359htowUPsmiV4IYRtGIywfC1dCTFfyletnag6cMIR7T0Sw/hF/xj0/PYediLyQPnohhG1smGKaLarr+9Cga6am3z54nZZbDrK1RVUmfPyTjQIsOeSKXghR9Pb+YC47PAbajc/U9Ne8L2ny00oO1itD/9krcHaS69H8kkQvhChaJ/6Gta9Cg0eg+0eglKVp26rfqP35bM5Uc6bVD79TsZzVqS7EbZJEL4QoOpcOmKYDrOYH/TKPsDm4eyvub08jqqwD1Wct4K6adW0XZwkjfxMJIYpG7Hn4ZQCUqQxP/gYuHpamsJNHiH9uPA6OYJgxk4AmLW0YaMkjV/RCiMJ3IxYW94e0ZBj8G5StammKuXqZ0FFP4p5iIPzNV2WWqEIgiV4IUbjSkuHXIRB9Cgb8BFUaWZqS4q+zY3Avql5L5cCE4fTvO8J2cZZgkuiFEIXHkA7LRkHYdujzLdTraGlKS05m9ZOPcld4AlsGd2P0mNdvsSORH5LohRCFQ2v48zk4sRoe+SRToTJDWhq/D+5B09Ao1v8vgOfe/MKGgZZ8kuiFEAVPa1g/GYIXQ6c3oM3/TxltSE/n12E9aXbkMuu6NuX5GT/aMNDSQRK9EKLg7fjs/x+I6viaZbHWmiVP9aX5gfNs6Hg3z33xKw4OkoYKm/yEhRAFK2gB/PMu3Nsfus+wPBCltWbxMwNo8e9J/mlXm2e/WS5Jvojk6aeslJqvlIpQSoVkWFZRKbVBKRVq/l4hh22Hm9cJVUoNL6jAhRDF0JHl8NckqN/NdPM1QyJf/MJwWm49zNaW1Xh6zmopbVCE8vpxuhDonmXZ68A/Wuv6wD/m95kopSoCU4E2QGtgak4fCEIIO3fsT/h9NPi0hScWgqOzpWnxK2Noue4/dt5biaHz1+Dq7JzzfkSBy1Oi11pvA2KyLO4N3LyL8iPQx8qm3YANWusYrfU1YAPZPzCEEPbu+BpYOgJqNDc/9VrG0vTzS0/R4s/t7GnkRb+Fa/FwdbddnKVUfjrIqmqtL5tfXwGqWlmnJnAhw/tw87JslFJjlFJBSqmgyMjIfIQlhChSJ9fBb8NM9WuG/A5u5QBTn/zPz4+g5epd7G5Sgcd+WoeXR1kbB1s6FcidEK21BnQ+9zFHax2gtQ7w9vYuiLCEEIUtdKPpqdeqTWDocnArD5iT/MShtFz3LzvvrUS/n9bj5VnOxsGWXvlJ9FeVUtUBzN8jrKxzEaid4X0t8zIhhL07vck0DaB3Q1OSN08DqLVm8bhBBGzcx/Zm3gxctIFyZTxtHGzplp9Evwq4OYpmOLDSyjrrgK5KqQrmm7BdzcuEEPbszFYIHGSa/m/YKihTETBfyY95gpabD7KteRUGL1qHp7v0ydtaXodXBgK7gYZKqXCl1FPAR8DDSqlQ4CHze5RSAUqpuQBa6xjgPeA/89e75mVCCHsVugF+6Q8V68GwlZYkb0hPZ/GoxwjYfoStAdUZ9uN6ufFaTChT93rxEhAQoIOCgmwdhhAiq6OrTEXKqjSCoSvAoxJgKlC2bGhP/A9fZHObWoz84S/cXVxtHGzpopTap7UOsNYmj6UJIfLm4K+mIZQ1W8DwPy1JPuF6LCv7PYj/4Yus69KQp+etlSRfzEiiF0LkLmg+LB8Lde+HIX9YbrzGRFxh0+MP0+hUDH/3ac1zs/6QJ16LIUn0Qohb2zXLXNagKzy5FFxNI2jCz4TyX7/u+F5KYPOwbkz66EepXVNMyUevEMI6rWHrDNjyITTuA4//AE4uABw/uI/LY0dQJTGd3ROeZMK4KTYOVtyKJHohRHZGA6x52dRl4z8Yen0NDo4A7Nn4F8bXXsPTYOTI6xMYM3i8jYMVuZFEL4TILO2GqTjZ8b+g/SR4cKql1PBf87+i5uffcd1dEfneOwzp0T+XnYniQBK9EOL/JcVA4EC4sNc0/V+GmaF+mTaJZr/+zdmqznh/MYfe/m1tGKi4HZLohRAmsefh575wLcxUZriJqSCtIT2dX54dSMD2Ixy4y5N2c5bhW7OOTUMVt0cSvRACroTA4n6QmmSqW1O3PQAJ8XGsHtqLgOMRbA2ozsDvV0oFSjskY6GEKO1CN8KCRwAFo/62JPlzp06wpVcXmh6PYF2PZjy1cL0keTsliV6I0kpr2DMbfnkCvOrA6A1QtTEAO/5eQfjAx6kZlcTWp/7HC58tkQeh7Jj8ywlRGhnSYM0rsG8B3NMTHvve8iDU0k+n0WD+r8R6OnBm+puM6z3UxsGK/JJEL0Rpc+Ma/DYczm41DZ/s8jY4OGBIS+OX8U8SsC2Eo7XdqPfVAjo28rd1tKIASKIXojSJOgWBA+DaOejzHfg/CUD01ctsHtmXgDPX2NqiGv2/W07F8l42DlYUFEn0QpQWoRvh96dMT7gO/xPqtANg3/Z/iHt1Eg3j0lj/WDsmvj9XataUMJLohSjpjEbYPhM2fwBVm8LAn6FCXQCWzpxK/YW/4eaqOPDqWJ4f8YJtYxWF4o4TvVKqIfBrhkX1gLe11l9kWKcTpikGz5oX/aG1fvdOjymEuE03YmH5M3ByLfgNgJ5fgEsZkhLi+eOZAbQMOsvR2m7U/uR7hvm3tnW0opDccaLXWp8A/AGUUo6YJv1ebmXV7Vrrnnd6HCHEHbp6FH4dbHri9ZFPoPXToBTHDv5H2HNjaHk1mX/u92XIl0vw8ixn62hFISqorpsHgdNa63MFtD8hRH6E/A4rJ4BrWRixGnxMdWlW/fAF1WfNoTKarWP7MmHSdBsHKopCQSX6gUBgDm3tlFIHgUvAy1rrI9ZWUkqNAcYA+Pj4FFBYQpQyacmw7k0Imge120L/H6FsNZIS4lk2cSitdp/gTFVn3KfP5JkOXW0drSgi+Z4cXCnlgimJN9FaX83SVg4waq0TlFI9gC+11vVz26dMDi7EHYg8CctGwtUQuG+iaXy8kwv7d24i6vVJ1I5MZUurmjz2xS9Uq1TF1tGKAlbYk4M/AuzPmuQBtNbXtdYJ5tdrAGelVOUCOKYQ4iat4cBimNMR4i+bpvvrOh3t6Mwv77yI49jxlEtMZdu4/jz700ZJ8qVQQXTdDCKHbhulVDXgqtZaK6VaY/pgiS6AYwohAFLiYfVLcOhXqNvBNN1fuepcDT/P1nGDaX4yikO+ZfD98DvGyqiaUitfiV4p5QE8DIzNsOwZAK31bKAf8KxSKh24AQzU+e0rEkKYXNwHvz8N185CpzfhgZfBwZHVi77D66tZNEoysr6HP6M/nI+Hq7utoxU2lK9Er7VOBCplWTY7w+tZwKz8HEMIkYUhDbbNhG2fQNlqpqdc67bnWlQEq58fTst9YVyo5MilN1/j+cdH2DpaUQzIk7FC2JOoUPhjDFzab3oA6pGPwd2L9b8uwO3TT2keb2BTuzo8/slCqleuZutoRTEhiV4Ie2A0wn9zYcPb4OwGT/wITfoQfy2W5c/2otWeUC5VcODA5PGMHzzB1tGKYkYSvRDFXVy46eGnM5vh7oeh9ywoW42NS3/E8dOZtIpNZ2urmjw6cxEPVq1h62hFMSSJXojiymg0Pfi0cZppCGXPz6HlSCKvXOTvsd0J2H+OK14O7H1lNM889ZKtoxXFmCR6IYqjqFBYNRHO74Z6neF/X6K9fFj25XRqLQqk+Q3Npvt86fXhXDrLVbzIhSR6IYoTQxrs/BK2fgzO7qbJQZoN4nhIMIeHDKLp6WucrubMpbdfZnyfYbaOVtgJSfRCFBcX98Gq5+HqYWjcGx75hBSncix59Wn8/t7J3cCGR1sy4r3ZlCvjaetohR2RRC+ErSXFwD/vwr6F4FkVBvwMjf7Hmp/n4PrtLFrHpLH/bk9qvTWD59p1sXW0wg5JohfCVoxGCF4MG6eaJghp+yx0eoOTp06zv88DNDseyWUvB7aPH8Do8W/L9H7ijkmiF8IWrhw21ai58C/UbgOPfkqSZ11+e30C/hv3cg+w8aHGPPHubLpU9LZ1tMLOSaIXoiglRsOWD03DJt0rQO9vMDTtz++zPqRa4FLaXDcQ1LA8dd74kIltO9s6WlFCSKIXoiikp8LeOabRNKnxEDAKOr/FxnVrSXmxLfdevsHZKk6cHjOK4aNekm4aUaAk0QtRmLSG46thwxSIOQN3PQjd3ifkfCwhT/ah2fFIoj0VmwZ2YcQbM6XKpCgUkuiFKCyXD8K6tyBsO1RuCIOXcc6hDltefYkWe0/R0BH+6dKI3lNn0V4eehKFSBK9EAUt+jRsmg5H/jD1w/eYSWSNh1k9/VX8dxympQF2+1ej+RsfM8Gvla2jFaWAJHohCsr1y7B1BuxfBE6u0OFl4hoPYfnH02i66TNapcDeJhWpOfFNnu70qK2jFaWIJHoh8ispBnZ+Af9+D0YDtHqK+GZP88fXn9LwlUdpk6TZX78snmMnMbLnIFtHK0qhfCd6pVQYEA8YgPSss5ArpRTwJdADSAJGaK335/e4QthcUgzs/saU4FMTwK8/sc2eYfl3s2g0uQ+tkzQhddw5N3IsgweOzX1/QhSSgrqi76y1jsqh7RGgvvmrDfCd+bsQ9ikxGnZ/DXt/MCX4xr2JaTqalXPm0uTdIbRN1hzy9cA4ZCQDBj0rQyWFzRVF101vYJF5UvA9SikvpVR1rfXlIji2EAUnMQp2fQV750JaEjR5jHDfAWyYv4B73x9L2xQ4cHdZnIaN4Yl+oyTBi2KjIBK9BtYrpTTwvdZ6Tpb2msCFDO/DzcsyJXql1BhgDICPj08BhCVEAYk5a+qiOfAzpCdD076EeD3I/gWLaBY8idYGONCgPGVGjefJPkNtHa0Q2RREom+vtb6olKoCbFBKHddab7vdnZg/IOYABAQE6AKIS4j8uRRsuoI/shyUIzQbyNak+lz+aRn3nthFM0fY61edOk9PYkiX/9k6WiFylO9Er7W+aP4eoZRaDrQGMib6i0DtDO9rmZcJUfxobZqbdeeXcGYLuJYjtdU4Vh1Jw+Wrf6h/8R/KuMHWBxrQ7rmpPN20ha0jFiJX+Ur0SikPwEFrHW9+3RV4N8tqq4AJSqklmG7Cxkn/vCh2UhPh4BLTCJqoE+BZjSvNn+Pvf05R//cVNEkwcsXLgX/+15pek6Yzrkbt3PcpRDGR3yv6qsBy0whKnIBftNZ/K6WeAdBazwbWYBpaeQrT8MqR+TymEAXn2jn47wfTQ07JcehqfgTVfoYT6/7Db8Ey2hjgkK8HJ0b0ZsDTL9NZatEIO6RMg2GKl4CAAB0UFGTrMERJZTTCmU0QtABOrAEU8XW7s+aEE+V2HKJuRAo3XCDIrxY+IybS/aFeto5YiFwppfZlfY7pJnkyVpQe8Vch+GfY9yPEnoMylThQsRdHdofTZNkB/NLgnLcTm/q0o9uzbzKmzt22jliIAiGJXpRsRiOc3Qr7FpjKBRvTiancmo3X61F2Uxh1I/bS1An2N65C2b5DeLzfKLo7Oto6aiEKlCR6UTJFn4bgX0w3WK+Hk+ZagW2G+4g+EEmjU+Hca4QzVZ0tV++j5OpdlGCS6EXJkXzdNOY9+Be4sAeNA4ccm3PsdGXqHomkRtIpyngodrapS82+I3i0xxPy9KooFSTRC/uWlgynNsDhZXDyb0hP5jS+7D/fDO8jMVSNu0xjRzh4txdpD/fg8RHP086znK2jFqJISaIX9seQDmHbTMn92J+Qcp0L6ZXZF3E3HkfjqRWVQmMVydE6ZTj2SFseHP4CQ33r2zpqIWxGEr2wD4Y005R8R1fB8b/QCZGEJXtxMKIGnqFe1IxKpyExnKzhyqbebWk7ZDxP3Gt1pJkQpY4kelF8pSWbyhEc+xNOrMGYdI0TCeU5EelN+VA3ql0zUJ/rnKzlxqaeLfDv/xS9Wz9g66iFKHYk0YviJTEKQjfAybVwahPJiQkciKvIlcsVqH62DOWTNHerJI77lOFY5xa0GTiGx2TeVSFuSRK9sC2tIfI4nFgLJ/9Gn9/LxSRnjl6rSEp4RXwulMXLAM6uyRypV5HkVm14YMBo+t3V2NaRC2E3JNGLonfjGpzZCqf/gVObSIq5REiMB1ciy1PhfA0qx2lqA5cqGNgTUAfPTt3o0XcUAeXK2zpyIeySJHpR+AxpcHGfqezvqX9IPR/EiTg3wqPKoq44U/NyNcoawcnFyHGfchzu4keTR/vT+b4HeVDGuQuRb5LoRcEzGuDyQTi7Dc5uI+3sHkKvGQmPLoPhihvVL1XDNR18FJyt6sTO+3wo1/4huj82jBblK9g6eiFKHEn0Iv/SU+DSATi3C87vIen0bk5EGomIdoMIV6peKY9rumn2mXOVHdnbsgZOLdvR/n+D6Snj24UodJLoxe1LiISLQXDhX/S53Vw8dZiz0U4kxLjgEulM1QhP3DTUUnCuihN7W1bHsVkrWnbvR/fG/raOXohSRxK9uLX0FLhyGML/g/AgokP/JeziNaLjXDFGOlPxqgNlb5SnMuDhAmeqlSG0Q208WrajfY/+9Kjta+szEKLUk0Qv/l/aDbh6BC4dQF8KJjJ0H+fPXyQm1hljtBPlIh2pEA9lKEcZ4GJFR47Ur0Ryg0b4tOtCx849aVGmjK3PQgiRxR0neqVUbWARpukENTBHa/1llnU6ASuBs+ZFf2its84pK4qa1hB/2ZTUr4aQcuEgZ08cIuJyDImxjjjEOFEh2oGySeCBJx7A5QoOnKrlRaJvPSr4t6ZV50d5qHY9W5+JECIP8nNFnw68pLXer5QqC+xTSm3QWh/Nst52rXXPfBxH3CmtIeEqRJ6AyBMkhR/i3IlDRF68TFKsER3riEeMAxVjFY4avHGnvCNcrOxMSP2KpNTxpULTFrTo0J0uctNUCLt1x4lea30ZuGx+Ha+UOgbUBLImelHYUhMh5gxEnyLtygnOn9xPxLkwEiJjSLsOjnGOeMYqvK4rHABvnDAquOrlQLi3J0f9quPk24DazdvRrv1DNPMoa+szEkIUoALpo1dK1QWaA/9aaW6nlDoIXAJe1lofyWEfY4AxAD4+PgURVslhNJi6Wq6dwxB9hsgzh7l45hhxV6+Qcu06+roBx3hHylw3JXMnI3gBXjhzwwWuVnDiTK2yJFarjpPPXVS/tyWt2nahSSVvW5+ZEKIIKK11/naglCewFXhfa/1HlrZygFFrnaCU6gF8qbXOtQ8gICBABwUF5Ssuu2FIg4QIiL+CIfYCkWHHuRR2jNjLF0iJicUQfwOHBAOOSQr3eEX5eIVLeuZdJLhBVHknYiqUIcG7CtSsQ3nfBtRv1ga/pi1xdpJ77kKUdEqpfVprq7W585UBlFLOwO/A4qxJHkBrfT3D6zVKqW+VUpW11lH5OW6xZjRCShzcuIZOjCHu8hkunz9J3JXzJERdJfX6NdITEiExBYekdJySNK5JCvckhWcSOGpwx/QFYFQQ5+FInKcjl6q4E9rQi/SqtXCr6UuVu+6hfpMWtPSpJ1PiCSFylJ9RNwqYBxzTWn+WwzrVgKtaa62Uag04ANF3esxCYTRAejI6LZn0xDgSr8eQnBhLUlw0CbFR3LgeTUpiHKkJ10m7kUB6UiKGpER0cjI6OQWVkoZDqgHHVCNOKUacU8AlBdxSFO7JpsQNUN78dVO6A1z3UMSXcSSmrDM3qruTUq4chgreONfwxcvnLnzuakT9+o1pIn3mQoh8yM8V/f3AUOCwUirYvOxNwAdAaz0b6Ac8q5RKB24AA3V++4puYeMDjXBKB5XhCApAm5Y53PxuNL82gqMRnAzgbMi+P2fz163ccIEUZ0h2VSS7OhLv7khqBSdS3V1Jdy+D0cMTVdEbR+9alK3qQ+UaPtSo7Uu96j64Oue2dyGEyL/8jLrZgTmP3mKdWcCsOz3G7Yqr5IKDwZTltTmymzlfK4V2MH/dfK0c0I4OaCdHtJMT2skZ7ewMTs4oF1eUmwcOZTxx8iiHk4cXruUq4lrOmwpVqlOxUhW8K1fD093dejBCCFFMlKi7dH2XH7R1CEIIUezIHTwhhCjhJNELIUQJJ4leCCFKOEn0QghRwkmiF0KIEk4SvRBClHCS6IUQooSTRC+EECVcvqtXFgalVCRw7g43rwyU3KJp1sk5l3yl7XxBzvl21dFaW609XiwTfX4opYJyKtVZUsk5l3yl7XxBzrkgSdeNEEKUcJLohRCihCuJiX6OrQOwATnnkq+0nS/IOReYEtdHL4QQIrOSeEUvhBAiA0n0QghRwtltoldKdVdKnVBKnVJKvW6l3VUp9au5/V+lVN2ij7Lg5OF8X1RKHVVKHVJK/aOUqmOLOAtSbuecYb2+SimtlLL7oXh5OWelVH/zv/URpdQvRR1jQcvD77aPUmqzUuqA+fe7hy3iLChKqflKqQilVEgO7Uop9ZX553FIKdUi3wfVWtvdF+AInAbqAS7AQaBxlnXGAbPNrwcCv9o67kI+385AGfPrZ+35fPN6zub1ygLbgD1AgK3jLoJ/5/rAAaCC+X0VW8ddBOc8B3jW/LoxEGbruPN5zg8ALYCQHNp7AGsxTdXaFvg3v8e01yv61sAprfUZrXUqsATonWWd3sCP5tfLgAeVUrec47YYy/V8tdabtdZJ5rd7gFpFHGNBy8u/McB7wAwguSiDKyR5OeengW+01tcAtNYRRRxjQcvLOWugnPl1eeBSEcZX4LTW24CYW6zSG1ikTfYAXkqp6vk5pr0m+prAhQzvw83LrK6jtU4H4oBKRRJdwcvL+Wb0FKYrAnuW6zmb/6StrbVeXZSBFaK8/Ds3ABoopXYqpfYopboXWXSFIy/nPA0YopQKB9YAE4smNJu53f/vuSpRk4MLUEoNAQKAjraOpTAppRyAz4ARNg6lqDlh6r7phOmvtm1KqXu11rE2japwDQIWaq0/VUq1A35SSjXVWhttHZi9sNcr+otA7Qzva5mXWV1HKeWE6U++6CKJruDl5XxRSj0EvAX00lqnFFFshSW3cy4LNAW2KKXCMPVlrrLzG7J5+XcOB1ZprdO01meBk5gSv73Kyzk/BfwGoLXeDbhhKv5VUuXp//vtsNdE/x9QXynlq5RywXSzdVWWdVYBw82v+wGbtPlOhx3K9XyVUs2B7zEleXvvt4VczllrHae1rqy1rqu1rovpvkQvrXWQbcItEHn5vV6B6WoepVRlTF05Z4oyyAKWl3M+DzwIoJRqhCnRRxZplEVrFTDMPPqmLRCntb6cnx3aZdeN1jpdKTUBWIfprv18rfURpdS7QJDWehUwD9OfeKcw3fgYaLuI8yeP5/sJ4AksNd9zPq+17mWzoPMpj+dcouTxnNcBXZVSRwED8IrW2l7/Us3rOb8E/KCUmoTpxuwIO75oQykViOnDurL5vsNUwBlAaz0b032IHsApIAkYme9j2vHPSwghRB7Ya9eNEEKIPJJEL4QQJZwkeiGEKOEk0QshRAkniV4IIUo4SfRCCFHCSaIXQogS7v8Aakvgzi4mgNYAAAAASUVORK5CYII=\n"
          },
          "metadata": {
            "needs_background": "light"
          }
        }
      ]
    },
    {
      "cell_type": "markdown",
      "source": [
        "Напишем функцию Рунге-Кутты 2 порядка точности для решения дифференциального уравнения 2 порядка с постоянным шагом."
      ],
      "metadata": {
        "id": "rT_qh9Eb6KQS"
      }
    },
    {
      "cell_type": "code",
      "source": [
        "def Runge_Kutta_2p_1(y0, yy0, x0, xk, e, h, Nmax, func, p=2):\n",
        "  xi = []\n",
        "  yi = []\n",
        "  ti = []\n",
        "  hi = []\n",
        "  _yi_ = []\n",
        "  y_max = []\n",
        "  _xi_ = []\n",
        "  ti.append(x0)\n",
        "  yi.append(y0)\n",
        "  _yi_.append(y0)\n",
        "  y_max.append(0)\n",
        "  xi.append(yy0)\n",
        "  _xi_.append(yy0)\n",
        "  hi.append(h)\n",
        "\n",
        "  i = 1\n",
        "  summa = x0\n",
        "  iter = 0\n",
        "  while(summa < xk):\n",
        "    ti.append(ti[i-1] + h)\n",
        "    hi.append(h)\n",
        "    x = xi[i-1] + h/2 * (func(ti[i-1], yi[i-1]) + func(ti[i], yi[i-1] + h*func(ti[i-1], yi[i-1])))\n",
        "    xi.append(x)\n",
        "    y = yi[i-1] + xi[i-1] * h\n",
        "    yi.append(y)\n",
        "\n",
        "    #Считаем погрешность и разницу \n",
        "    h_new = h/2\n",
        "    t_new = xi[i-1] + h_new\n",
        "    xi_new = xi[i-1] + h_new/2 * (func(ti[i-1], yi[i-1]) + func(ti[i], yi[i-1] + h_new*func(ti[i-1], yi[i-1])))\n",
        "    yi_new = yi[i-1] + xi[i-1] * h_new\n",
        "    _xi_.append(xi_new + h_new * func(t_new, yi_new))\n",
        "    _yi_.append(yi_new + xi_new * h_new)\n",
        "    y_max.append(abs(yi[i] - _yi_[i]))\n",
        "\n",
        "    if(iter == Nmax):\n",
        "      break\n",
        "    summa += h\n",
        "    i += 1\n",
        "    iter += 1\n",
        "  \n",
        "  dict = {'xi':ti, 'hi':hi, 'yi':yi, '^yi':_yi_, '|yi - ^yi|':y_max}\n",
        "  print(\"Справка:\")\n",
        "  print(f\"Условие задачи: y({x0})={y0}, y'({x0})={yy0} на интервале [{x0}, {xk}]\")\n",
        "  print(f\"Количество интераций: {iter}\")\n",
        "  print(f\"Максимальное значение погрешности: {max(y_max)}\")\n",
        "  print()\n",
        "  print(pd.DataFrame(dict))\n",
        "  print()\n",
        "  print(\"График нашего решения: \")\n",
        "\n",
        "  f2 = np.vectorize(y_exact)\n",
        "  plt.plot(ti, yi)\n",
        "  if(iter == Nmax):\n",
        "    N = Nmax * h\n",
        "    x_ = np.arange(x0, N, h)\n",
        "    plt.plot(x_, f2(x_), label=\"Аналитическое решение\")\n",
        "  else:\n",
        "    x_ = np.arange(x0, xk, h)\n",
        "    plt.plot(x_, f2(x_), label=\"Аналитическое решение\")\n",
        "  plt.plot(ti, yi, label=\"Метод Рунге-Кутты 2 порядка\")\n",
        "  plt.plot(ti, _yi_, label=\"Улучшенный метод Рунге-Кутты 2 порядка\")\n",
        "  plt.legend()\n",
        "  plt.show()\n",
        "  return ti, yi"
      ],
      "metadata": {
        "id": "4sf0t_cY6PXB"
      },
      "execution_count": null,
      "outputs": []
    },
    {
      "cell_type": "code",
      "source": [
        "ti_RK_2p_1, yi_RK_2p_1 = Runge_Kutta_2p_1(2, 0, 0, 1, 0, 0.02, 200, func_2p)"
      ],
      "metadata": {
        "colab": {
          "base_uri": "https://localhost:8080/",
          "height": 1289
        },
        "id": "GU8R07VWAaDh",
        "outputId": "74fbb1bb-31b2-4abb-c7ca-1acac89182a4"
      },
      "execution_count": null,
      "outputs": [
        {
          "output_type": "stream",
          "name": "stdout",
          "text": [
            "Справка:\n",
            "Условие задачи: y(0)=2, y'(0)=0 на интервале [0, 1]\n",
            "Количество интераций: 50\n",
            "Максимальное значение погрешности: 0.021817182315228223\n",
            "\n",
            "      xi    hi         yi        ^yi  |yi - ^yi|\n",
            "0   0.00  0.02   2.000000   2.000000    0.000000\n",
            "1   0.02  0.02   2.000000   2.001989    0.001989\n",
            "2   0.04  0.02   2.008296   2.010292    0.001995\n",
            "3   0.06  0.02   2.024917   2.026926    0.002010\n",
            "4   0.08  0.02   2.049922   2.051955    0.002033\n",
            "5   0.10  0.02   2.083409   2.085473    0.002064\n",
            "6   0.12  0.02   2.125507   2.127611    0.002104\n",
            "7   0.14  0.02   2.176383   2.178535    0.002152\n",
            "8   0.16  0.02   2.236236   2.238445    0.002209\n",
            "9   0.18  0.02   2.305304   2.307578    0.002275\n",
            "10  0.20  0.02   2.383861   2.386210    0.002349\n",
            "11  0.22  0.02   2.472220   2.474653    0.002434\n",
            "12  0.24  0.02   2.570732   2.573260    0.002528\n",
            "13  0.26  0.02   2.679789   2.682421    0.002632\n",
            "14  0.28  0.02   2.799827   2.802574    0.002747\n",
            "15  0.30  0.02   2.931324   2.934196    0.002872\n",
            "16  0.32  0.02   3.074802   3.077810    0.003009\n",
            "17  0.34  0.02   3.230832   3.233990    0.003158\n",
            "18  0.36  0.02   3.400037   3.403356    0.003319\n",
            "19  0.38  0.02   3.583087   3.586580    0.003493\n",
            "20  0.40  0.02   3.780710   3.784391    0.003681\n",
            "21  0.42  0.02   3.993690   3.997574    0.003883\n",
            "22  0.44  0.02   4.222872   4.226972    0.004101\n",
            "23  0.46  0.02   4.469161   4.473495    0.004334\n",
            "24  0.48  0.02   4.733533   4.738117    0.004585\n",
            "25  0.50  0.02   5.017031   5.021883    0.004853\n",
            "26  0.52  0.02   5.320773   5.325912    0.005139\n",
            "27  0.54  0.02   5.645957   5.651403    0.005446\n",
            "28  0.56  0.02   5.993860   5.999634    0.005774\n",
            "29  0.58  0.02   6.365851   6.371974    0.006123\n",
            "30  0.60  0.02   6.763387   6.769883    0.006496\n",
            "31  0.62  0.02   7.188026   7.194920    0.006894\n",
            "32  0.64  0.02   7.641429   7.648747    0.007319\n",
            "33  0.66  0.02   8.125365   8.133136    0.007771\n",
            "34  0.68  0.02   8.641722   8.649975    0.008253\n",
            "35  0.70  0.02   9.192509   9.201275    0.008766\n",
            "36  0.72  0.02   9.779867   9.789179    0.009312\n",
            "37  0.74  0.02  10.406074  10.415967    0.009893\n",
            "38  0.76  0.02  11.073556  11.084068    0.010512\n",
            "39  0.78  0.02  11.784893  11.796063    0.011170\n",
            "40  0.80  0.02  12.542831  12.554701    0.011870\n",
            "41  0.82  0.02  13.350291  13.362905    0.012614\n",
            "42  0.84  0.02  14.210378  14.223784    0.013406\n",
            "43  0.86  0.02  15.126395  15.140643    0.014247\n",
            "44  0.88  0.02  16.101854  16.116996    0.015142\n",
            "45  0.90  0.02  17.140487  17.156579    0.016093\n",
            "46  0.92  0.02  18.246260  18.263363    0.017103\n",
            "47  0.94  0.02  19.423389  19.441566    0.018177\n",
            "48  0.96  0.02  20.676355  20.695673    0.019318\n",
            "49  0.98  0.02  22.009917  22.030447    0.020530\n",
            "50  1.00  0.02  23.429132  23.450949    0.021817\n",
            "\n",
            "График нашего решения: \n"
          ]
        },
        {
          "output_type": "display_data",
          "data": {
            "text/plain": [
              "<Figure size 432x288 with 1 Axes>"
            ],
            "image/png": "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\n"
          },
          "metadata": {
            "needs_background": "light"
          }
        }
      ]
    },
    {
      "cell_type": "markdown",
      "source": [
        "Напишем функцию Рунге-Кутты 4 порядка точности для решения дифференциального уравнения 2 порядка с постоянным шагом."
      ],
      "metadata": {
        "id": "8uYc4xbnRIUv"
      }
    },
    {
      "cell_type": "code",
      "source": [
        "def Runge_Kutta_4p_1(y0, yy0, x0, xk, e, h, Nmax, func, p=4):\n",
        "  xi = []\n",
        "  yi = []\n",
        "  ti = []\n",
        "  hi = []\n",
        "  _yi_ = []\n",
        "  y_max = []\n",
        "  _xi_ = []\n",
        "  ti.append(x0)\n",
        "  yi.append(y0)\n",
        "  _yi_.append(y0)\n",
        "  y_max.append(0)\n",
        "  xi.append(yy0)\n",
        "  _xi_.append(yy0)\n",
        "  hi.append(h)\n",
        "\n",
        "  i = 1\n",
        "  summa = x0\n",
        "  iter = 0\n",
        "  while(summa < xk):\n",
        "    ti.append(ti[i-1] + h)\n",
        "    hi.append(h)\n",
        "\n",
        "    k1 = func(ti[i-1], yi[i-1])\n",
        "    k2 = func(ti[i-1] + h/2, yi[i-1] + h/2*k1)\n",
        "    k3 = func(ti[i-1] + h/2, yi[i-1] + h/2*k2)\n",
        "    k4 = func(ti[i-1] + h, yi[i-1] + h*k3)\n",
        "    x = xi[i-1] + h/6*(k1 + 2*k2 + 2*k3 + k4)\n",
        "    xi.append(x)\n",
        "    k1 = h * xi[i-1]\n",
        "    k2 = h * (xi[i-1] + k1/2)\n",
        "    k3 = h * (xi[i-1] + k2/2)\n",
        "    k4 = h * (xi[i-1] + k3/2)\n",
        "    y = yi[i-1] + 1/6*(k1 + 2*k2 + 2*k3 + k4)\n",
        "    yi.append(y)\n",
        "\n",
        "    #Считаем погрешность и разницу \n",
        "    h_new = h/2\n",
        "    t_new = xi[i-1] + h_new\n",
        "    k1 = func(ti[i-1], yi[i-1])\n",
        "    k2 = func(ti[i-1] + h_new/2, yi[i-1] + h_new/2*k1)\n",
        "    k3 = func(ti[i-1] + h_new/2, yi[i-1] + h_new/2*k2)\n",
        "    k4 = func(ti[i-1] + h_new, yi[i-1] + h_new*k3)\n",
        "    xi_new = xi[i-1] + h_new/6*(k1 + 2*k2 + 2*k3 + k4)\n",
        "    k1 = h_new * xi[i-1]\n",
        "    k2 = h_new * (xi[i-1] + k1/2)\n",
        "    k3 = h_new * (xi[i-1] + k2/2)\n",
        "    k4 = h_new * (xi[i-1] + k3/2)\n",
        "    yi_new = yi[i-1] + 1/6*(k1 + 2*k2 + 2*k3 + k4)\n",
        "\n",
        "    k1 = func(t_new, yi_new)\n",
        "    k2 = func(t_new + h_new/2, yi_new + h_new/2*k1)\n",
        "    k3 = func(t_new + h_new/2, yi_new + h_new/2*k2)\n",
        "    k4 = func(t_new + h_new, yi_new + h_new*k3)\n",
        "    xi_ = xi_new + h_new/6*(k1 + 2*k2 + 2*k3 + k4)\n",
        "    k1 = h_new * xi_new\n",
        "    k2 = h_new * (xi_new + k1/2)\n",
        "    k3 = h_new * (xi_new + k2/2)\n",
        "    k4 = h_new * (xi_new + k3/2)\n",
        "    yi_ = yi_new + 1/6*(k1 + 2*k2 + 2*k3 + k4)\n",
        "\n",
        "    _xi_.append(xi_)\n",
        "    _yi_.append(yi_)\n",
        "    y_max.append(abs(yi[i] - _yi_[i]))\n",
        "\n",
        "    if(iter == Nmax):\n",
        "      break\n",
        "    summa += h\n",
        "    i += 1\n",
        "    iter += 1\n",
        "  \n",
        "  dict = {'xi':ti, 'hi':hi, 'yi':yi, '^yi':_yi_, '|yi - ^yi|':y_max}\n",
        "  print(\"Справка:\")\n",
        "  print(f\"Условие задачи: y({x0})={y0}, y'({x0})={yy0} на интервале [{x0}, {xk}]\")\n",
        "  print(f\"Количество интераций: {iter}\")\n",
        "  print(f\"Максимальное значение погрешности: {max(y_max)}\")\n",
        "  print()\n",
        "  print(pd.DataFrame(dict))\n",
        "  print()\n",
        "  print(\"График нашего решения: \")\n",
        "\n",
        "  f2 = np.vectorize(y_exact)\n",
        "  plt.plot(ti, yi)\n",
        "  if(iter == Nmax):\n",
        "    N = Nmax * h\n",
        "    x_ = np.arange(x0, N, h)\n",
        "    plt.plot(x_, f2(x_), label=\"Аналитическое решение\")\n",
        "  else:\n",
        "    x_ = np.arange(x0, xk, h)\n",
        "    plt.plot(x_, f2(x_), label=\"Аналитическое решение\")\n",
        "  plt.plot(ti, yi, label=\"Метод Рунге-Кутты 4 порядка\")\n",
        "  plt.plot(ti, _yi_, label=\"Улучшенный метод Рунге-Кутты 4 порядка\")\n",
        "  plt.legend()\n",
        "  plt.show()\n",
        "  return ti, yi"
      ],
      "metadata": {
        "id": "2w6dcr2JRKzA"
      },
      "execution_count": null,
      "outputs": []
    },
    {
      "cell_type": "code",
      "source": [
        "ti_RK_4p_1, yi_RK_4p_1 = Runge_Kutta_4p_1(2, 0, 0, 1, 0, 0.02, 200, func_2p)"
      ],
      "metadata": {
        "colab": {
          "base_uri": "https://localhost:8080/",
          "height": 1293
        },
        "id": "HFCPa_T2kL_E",
        "outputId": "967ecd79-0d83-4641-9cfc-0621e88e5842"
      },
      "execution_count": null,
      "outputs": [
        {
          "output_type": "stream",
          "name": "stdout",
          "text": [
            "Справка:\n",
            "Условие задачи: y(0)=2, y'(0)=0 на интервале [0, 1]\n",
            "Количество интераций: 50\n",
            "Максимальное значение погрешности: 0.016268760157071682\n",
            "\n",
            "      xi    hi         yi        ^yi  |yi - ^yi|\n",
            "0   0.00  0.02   2.000000   2.000000    0.000000\n",
            "1   0.02  0.02   2.000000   2.001998    0.001998\n",
            "2   0.04  0.02   2.008410   2.010379    0.001969\n",
            "3   0.06  0.02   2.025257   2.027206    0.001949\n",
            "4   0.08  0.02   2.050605   2.052542    0.001937\n",
            "5   0.10  0.02   2.084552   2.086485    0.001933\n",
            "6   0.12  0.02   2.127231   2.129168    0.001937\n",
            "7   0.14  0.02   2.178812   2.180760    0.001948\n",
            "8   0.16  0.02   2.239500   2.241468    0.001968\n",
            "9   0.18  0.02   2.309539   2.311535    0.001996\n",
            "10  0.20  0.02   2.389210   2.391242    0.002032\n",
            "11  0.22  0.02   2.478834   2.480910    0.002076\n",
            "12  0.24  0.02   2.578771   2.580900    0.002129\n",
            "13  0.26  0.02   2.689425   2.691615    0.002190\n",
            "14  0.28  0.02   2.811242   2.813502    0.002260\n",
            "15  0.30  0.02   2.944712   2.947052    0.002339\n",
            "16  0.32  0.02   3.090374   3.092802    0.002428\n",
            "17  0.34  0.02   3.248814   3.251340    0.002526\n",
            "18  0.36  0.02   3.420670   3.423304    0.002634\n",
            "19  0.38  0.02   3.606633   3.609386    0.002753\n",
            "20  0.40  0.02   3.807451   3.810334    0.002882\n",
            "21  0.42  0.02   4.023930   4.026954    0.003023\n",
            "22  0.44  0.02   4.256939   4.260115    0.003176\n",
            "23  0.46  0.02   4.507410   4.510752    0.003342\n",
            "24  0.48  0.02   4.776347   4.779867    0.003520\n",
            "25  0.50  0.02   5.064824   5.068536    0.003712\n",
            "26  0.52  0.02   5.373993   5.377912    0.003919\n",
            "27  0.54  0.02   5.705087   5.709228    0.004141\n",
            "28  0.56  0.02   6.059425   6.063803    0.004379\n",
            "29  0.58  0.02   6.438414   6.443047    0.004633\n",
            "30  0.60  0.02   6.843559   6.848465    0.004906\n",
            "31  0.62  0.02   7.276467   7.281664    0.005198\n",
            "32  0.64  0.02   7.738851   7.744360    0.005509\n",
            "33  0.66  0.02   8.232539   8.238380    0.005841\n",
            "34  0.68  0.02   8.759478   8.765674    0.006196\n",
            "35  0.70  0.02   9.321745   9.328319    0.006575\n",
            "36  0.72  0.02   9.921551   9.928529    0.006978\n",
            "37  0.74  0.02  10.561252  10.568659    0.007408\n",
            "38  0.76  0.02  11.243355  11.251221    0.007865\n",
            "39  0.78  0.02  11.970531  11.978884    0.008353\n",
            "40  0.80  0.02  12.745620  12.754492    0.008872\n",
            "41  0.82  0.02  13.571646  13.581070    0.009424\n",
            "42  0.84  0.02  14.451826  14.461837    0.010012\n",
            "43  0.86  0.02  15.389580  15.400217    0.010637\n",
            "44  0.88  0.02  16.388549  16.399850    0.011301\n",
            "45  0.90  0.02  17.452600  17.464609    0.012008\n",
            "46  0.92  0.02  18.585850  18.598610    0.012760\n",
            "47  0.94  0.02  19.792672  19.806231    0.013559\n",
            "48  0.96  0.02  21.077717  21.092125    0.014408\n",
            "49  0.98  0.02  22.445926  22.461236    0.015310\n",
            "50  1.00  0.02  23.902553  23.918822    0.016269\n",
            "\n",
            "График нашего решения: \n"
          ]
        },
        {
          "output_type": "display_data",
          "data": {
            "text/plain": [
              "<Figure size 432x288 with 1 Axes>"
            ],
            "image/png": "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\n"
          },
          "metadata": {
            "needs_background": "light"
          }
        }
      ]
    },
    {
      "cell_type": "markdown",
      "source": [
        "Напишем функцию Адамса 4 порядка точности для решения дифференциального уравнения 2 порядка с постоянным шагом."
      ],
      "metadata": {
        "id": "YzFNyW21oHlt"
      }
    },
    {
      "cell_type": "code",
      "source": [
        "def Adams_4p(y0, yy0, x0, xk, e, h, Nmax, func, p=4):\n",
        "  xi = []\n",
        "  yi = []\n",
        "  ti = []\n",
        "  hi = []\n",
        "  _yi_ = []\n",
        "  y_max = []\n",
        "  _xi_ = []\n",
        "  ti.append(x0)\n",
        "  yi.append(y0)\n",
        "  _yi_.append(y0)\n",
        "  y_max.append(0)\n",
        "  xi.append(yy0)\n",
        "  _xi_.append(yy0)\n",
        "  hi.append(h)\n",
        "\n",
        "  i = 1\n",
        "  summa = x0\n",
        "  iter = 0\n",
        "\n",
        "  while(iter < 3):\n",
        "    ti.append(ti[i-1] + h)\n",
        "    hi.append(h)\n",
        "\n",
        "    k1 = func(ti[i-1], yi[i-1])\n",
        "    k2 = func(ti[i-1] + h/2, yi[i-1] + h/2*k1)\n",
        "    k3 = func(ti[i-1] + h/2, yi[i-1] + h/2*k2)\n",
        "    k4 = func(ti[i-1] + h, yi[i-1] + h*k3)\n",
        "    x = xi[i-1] + h/6*(k1 + 2*k2 + 2*k3 + k4)\n",
        "    xi.append(x)\n",
        "    k1 = h * xi[i-1]\n",
        "    k2 = h * (xi[i-1] + k1/2)\n",
        "    k3 = h * (xi[i-1] + k2/2)\n",
        "    k4 = h * (xi[i-1] + k3/2)\n",
        "    y = yi[i-1] + 1/6*(k1 + 2*k2 + 2*k3 + k4)\n",
        "    yi.append(y)\n",
        "\n",
        "    #Считаем погрешность и разницу \n",
        "    h_new = h/2\n",
        "    t_new = xi[i-1] + h_new\n",
        "    k1 = func(ti[i-1], yi[i-1])\n",
        "    k2 = func(ti[i-1] + h_new/2, yi[i-1] + h_new/2*k1)\n",
        "    k3 = func(ti[i-1] + h_new/2, yi[i-1] + h_new/2*k2)\n",
        "    k4 = func(ti[i-1] + h_new, yi[i-1] + h_new*k3)\n",
        "    xi_new = xi[i-1] + h_new/6*(k1 + 2*k2 + 2*k3 + k4)\n",
        "    k1 = h_new * xi[i-1]\n",
        "    k2 = h_new * (xi[i-1] + k1/2)\n",
        "    k3 = h_new * (xi[i-1] + k2/2)\n",
        "    k4 = h_new * (xi[i-1] + k3/2)\n",
        "    yi_new = yi[i-1] + 1/6*(k1 + 2*k2 + 2*k3 + k4)\n",
        "\n",
        "    k1 = func(t_new, yi_new)\n",
        "    k2 = func(t_new + h_new/2, yi_new + h_new/2*k1)\n",
        "    k3 = func(t_new + h_new/2, yi_new + h_new/2*k2)\n",
        "    k4 = func(t_new + h_new, yi_new + h_new*k3)\n",
        "    xi_ = xi_new + h_new/6*(k1 + 2*k2 + 2*k3 + k4)\n",
        "    k1 = h_new * xi_new\n",
        "    k2 = h_new * (xi_new + k1/2)\n",
        "    k3 = h_new * (xi_new + k2/2)\n",
        "    k4 = h_new * (xi_new + k3/2)\n",
        "    yi_ = yi_new + 1/6*(k1 + 2*k2 + 2*k3 + k4)\n",
        "\n",
        "    _xi_.append(xi_)\n",
        "    _yi_.append(yi_)\n",
        "    y_max.append(abs(yi[i] - _yi_[i]))\n",
        "    iter += 1\n",
        "    summa += h\n",
        "    i += 1\n",
        "    break\n",
        "\n",
        "  while(summa < xk):\n",
        "    #Считаем нашу точку\n",
        "\n",
        "    ti.append(ti[i-1] + h)\n",
        "    hi.append(h)\n",
        "    x = xi[i-1] + h/24 * (55*func(ti[i-1], yi[i-1]) - 59*func(ti[i-2], yi[i-2])\n",
        "    + 37*func(ti[i-3], yi[i-3]) - 9*func(ti[i-4], yi[i-4]))\n",
        "    xi.append(x)\n",
        "\n",
        "    y1 = yi[i-1] + h/24 * (55*xi[i-1] - 59*xi[i-2] + 37*xi[i-3] - 9*xi[i-4])\n",
        "    y2 = yi[i-1] + h/24 * (9*xi[i] + 19*xi[i-1] - 5*xi[i-2] + xi[i-3])\n",
        "    if(y1 > y2):\n",
        "      y = y1\n",
        "    elif(y2 >= y1):\n",
        "      y = y2\n",
        "    yi.append(y)\n",
        "\n",
        "    #Считаем погрешность и разницу \n",
        "    h_new = h/2\n",
        "    t_new = xi[i-1] + h_new\n",
        "    k1 = func(ti[i-1], yi[i-1])\n",
        "    k2 = func(ti[i-1] + h_new/2, yi[i-1] + h_new/2*k1)\n",
        "    k3 = func(ti[i-1] + h_new/2, yi[i-1] + h_new/2*k2)\n",
        "    k4 = func(ti[i-1] + h_new, yi[i-1] + h_new*k3)\n",
        "    xi_new = xi[i-1] + h_new/6*(k1 + 2*k2 + 2*k3 + k4)\n",
        "    k1 = h_new * xi[i-1]\n",
        "    k2 = h_new * (xi[i-1] + k1/2)\n",
        "    k3 = h_new * (xi[i-1] + k2/2)\n",
        "    k4 = h_new * (xi[i-1] + k3/2)\n",
        "    yi_new = yi[i-1] + 1/6*(k1 + 2*k2 + 2*k3 + k4)\n",
        "\n",
        "    k1 = func(t_new, yi_new)\n",
        "    k2 = func(t_new + h_new/2, yi_new + h_new/2*k1)\n",
        "    k3 = func(t_new + h_new/2, yi_new + h_new/2*k2)\n",
        "    k4 = func(t_new + h_new, yi_new + h_new*k3)\n",
        "    xi_ = xi_new + h_new/6*(k1 + 2*k2 + 2*k3 + k4)\n",
        "    k1 = h_new * xi_new\n",
        "    k2 = h_new * (xi_new + k1/2)\n",
        "    k3 = h_new * (xi_new + k2/2)\n",
        "    k4 = h_new * (xi_new + k3/2)\n",
        "    yi_ = yi_new + 1/6*(k1 + 2*k2 + 2*k3 + k4)\n",
        "\n",
        "    _xi_.append(xi_)\n",
        "    _yi_.append(yi_)\n",
        "    y_max.append(abs(yi[i] - _yi_[i]))\n",
        "\n",
        "    if(iter == Nmax):\n",
        "      break\n",
        "    summa += h\n",
        "    i += 1\n",
        "    iter += 1\n",
        "  \n",
        "  dict = {'xi':ti, 'hi':hi, 'yi':yi, '^yi':_yi_, '|yi - ^yi|':y_max}\n",
        "  print(\"Справка:\")\n",
        "  print(f\"Условие задачи: y({x0})={y0}, y'({x0})={yy0} на интервале [{x0}, {xk}]\")\n",
        "  print(f\"Количество интераций: {iter}\")\n",
        "  print(f\"Максимальное значение погрешности: {max(y_max)}\")\n",
        "  print()\n",
        "  print(pd.DataFrame(dict))\n",
        "  print()\n",
        "  print(\"График нашего решения: \")\n",
        "\n",
        "  f2 = np.vectorize(y_exact)\n",
        "  plt.plot(ti, yi)\n",
        "  if(iter == Nmax):\n",
        "    N = Nmax * h\n",
        "    x_ = np.arange(x0, N, h)\n",
        "    plt.plot(x_, f2(x_), label=\"Аналитическое решение\")\n",
        "  else:\n",
        "    x_ = np.arange(x0, xk, h)\n",
        "    plt.plot(x_, f2(x_), label=\"Аналитическое решение\")\n",
        "  plt.plot(ti, yi, label=\"Метод Адамса\")\n",
        "  plt.plot(ti, _yi_, label=\"Улучшенный метод Адамса\")\n",
        "  plt.legend()\n",
        "  plt.show()\n",
        "  return ti, yi"
      ],
      "metadata": {
        "id": "MuS8blQLoO51"
      },
      "execution_count": null,
      "outputs": []
    },
    {
      "cell_type": "code",
      "source": [
        "ti_Adams_4p, yi_Adams_4p = Adams_4p(2, 0, 0, 1, 0, 0.02, -1, func_2p)"
      ],
      "metadata": {
        "colab": {
          "base_uri": "https://localhost:8080/",
          "height": 1289
        },
        "id": "dHVjF0cIvBCI",
        "outputId": "5e2db291-69fa-4169-9e4f-a8d5c3ca0fa5"
      },
      "execution_count": null,
      "outputs": [
        {
          "output_type": "stream",
          "name": "stdout",
          "text": [
            "Справка:\n",
            "Условие задачи: y(0)=2, y'(0)=0 на интервале [0, 1]\n",
            "Количество интераций: 50\n",
            "Максимальное значение погрешности: 0.03037261238509803\n",
            "\n",
            "      xi    hi         yi        ^yi  |yi - ^yi|\n",
            "0   0.00  0.02   2.000000   2.000000    0.000000\n",
            "1   0.02  0.02   2.000000   2.001998    0.001998\n",
            "2   0.04  0.02   2.040752   2.010379    0.030373\n",
            "3   0.06  0.02   2.060722   2.058934    0.001788\n",
            "4   0.08  0.02   2.089023   2.086871    0.002152\n",
            "5   0.10  0.02   2.124859   2.123072    0.001787\n",
            "6   0.12  0.02   2.169157   2.167129    0.002028\n",
            "7   0.14  0.02   2.221608   2.219789    0.001819\n",
            "8   0.16  0.02   2.282686   2.280823    0.001863\n",
            "9   0.18  0.02   2.352601   2.350729    0.001872\n",
            "10  0.20  0.02   2.431667   2.429755    0.001911\n",
            "11  0.22  0.02   2.520201   2.518248    0.001953\n",
            "12  0.24  0.02   2.618566   2.616562    0.002004\n",
            "13  0.26  0.02   2.727160   2.725097    0.002063\n",
            "14  0.28  0.02   2.846418   2.844289    0.002129\n",
            "15  0.30  0.02   2.976817   2.974614    0.002203\n",
            "16  0.32  0.02   3.118876   3.116590    0.002286\n",
            "17  0.34  0.02   3.273159   3.270782    0.002377\n",
            "18  0.36  0.02   3.440275   3.437797    0.002477\n",
            "19  0.38  0.02   3.620882   3.618295    0.002587\n",
            "20  0.40  0.02   3.815690   3.812984    0.002706\n",
            "21  0.42  0.02   4.025463   4.022628    0.002835\n",
            "22  0.44  0.02   4.251020   4.248045    0.002975\n",
            "23  0.46  0.02   4.493240   4.490114    0.003126\n",
            "24  0.48  0.02   4.753067   4.749778    0.003289\n",
            "25  0.50  0.02   5.031507   5.028043    0.003464\n",
            "26  0.52  0.02   5.329641   5.325989    0.003652\n",
            "27  0.54  0.02   5.648619   5.644766    0.003853\n",
            "28  0.56  0.02   5.989673   5.985604    0.004069\n",
            "29  0.58  0.02   6.354115   6.349816    0.004299\n",
            "30  0.60  0.02   6.743346   6.738800    0.004546\n",
            "31  0.62  0.02   7.158858   7.154049    0.004809\n",
            "32  0.64  0.02   7.602242   7.597152    0.005090\n",
            "33  0.66  0.02   8.075191   8.069801    0.005390\n",
            "34  0.68  0.02   8.579509   8.573800    0.005709\n",
            "35  0.70  0.02   9.117116   9.111066    0.006050\n",
            "36  0.72  0.02   9.690053   9.683641    0.006412\n",
            "37  0.74  0.02  10.300494  10.293696    0.006798\n",
            "38  0.76  0.02  10.950748  10.943539    0.007208\n",
            "39  0.78  0.02  11.643272  11.635626    0.007645\n",
            "40  0.80  0.02  12.380677  12.372567    0.008109\n",
            "41  0.82  0.02  13.165739  13.157136    0.008603\n",
            "42  0.84  0.02  14.001407  13.992279    0.009128\n",
            "43  0.86  0.02  14.890814  14.881129    0.009685\n",
            "44  0.88  0.02  15.837289  15.827012    0.010277\n",
            "45  0.90  0.02  16.844369  16.833462    0.010906\n",
            "46  0.92  0.02  17.915806  17.904232    0.011574\n",
            "47  0.94  0.02  19.055590  19.043306    0.012284\n",
            "48  0.96  0.02  20.267953  20.254917    0.013037\n",
            "49  0.98  0.02  21.557390  21.543555    0.013836\n",
            "50  1.00  0.02  22.928673  22.913989    0.014684\n",
            "\n",
            "График нашего решения: \n"
          ]
        },
        {
          "output_type": "display_data",
          "data": {
            "text/plain": [
              "<Figure size 432x288 with 1 Axes>"
            ],
            "image/png": "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\n"
          },
          "metadata": {
            "needs_background": "light"
          }
        }
      ]
    },
    {
      "cell_type": "markdown",
      "source": [
        "Сравним метод Эйлера, метод Рунге-Кутты 2 порядка, метод Рунге-Кутты 4 порядка и Метод Адамса 4 порядка точности для дифференциального уравнения 2 порядка с постоянным шагом."
      ],
      "metadata": {
        "id": "FMBabAE2EJtQ"
      }
    },
    {
      "cell_type": "code",
      "source": [
        "f2 = np.vectorize(y_exact)\n",
        "x_ = np.arange(0, 1, 0.02)\n",
        "plt.plot(x_, f2(x_), label=\"Аналитическое решение\")\n",
        "plt.plot(ti_Euler_2p_1, yi_Euler_2p_1, label=\"Метод Эйлера\")\n",
        "plt.plot(ti_RK_2p_1, yi_RK_2p_1, label=\"Метод Рунге-Кутты 2 порядка\")\n",
        "plt.plot(ti_RK_4p_1, yi_RK_4p_1, label=\"Метод Рунге-Кутты 4 порядка\")\n",
        "plt.plot(ti_Adams_4p, yi_Adams_4p, label=\"Метод Адамса\")\n",
        "plt.legend()\n",
        "plt.show()"
      ],
      "metadata": {
        "colab": {
          "base_uri": "https://localhost:8080/",
          "height": 265
        },
        "id": "oqjmqobmEZ32",
        "outputId": "ba6c6d45-f145-4858-b9e6-4efd4e6edc91"
      },
      "execution_count": null,
      "outputs": [
        {
          "output_type": "display_data",
          "data": {
            "text/plain": [
              "<Figure size 432x288 with 1 Axes>"
            ],
            "image/png": "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\n"
          },
          "metadata": {
            "needs_background": "light"
          }
        }
      ]
    },
    {
      "cell_type": "markdown",
      "source": [
        "Самым не точным оказался метод Эйлера, а самым точным методом - метод Адамса, так как результат метода Адамса максимально приблизился к аналитическому решению."
      ],
      "metadata": {
        "id": "IrL7JFiSRpby"
      }
    },
    {
      "cell_type": "markdown",
      "source": [
        "Усовершенствуем функцию Эйлера для решения дифференциального уравнения 2 порядка с варьированным шагом."
      ],
      "metadata": {
        "id": "0QRJsjHDCw3T"
      }
    },
    {
      "cell_type": "code",
      "source": [
        "def Euler_2p_2(y0, yy0, x0, xk, eps, h, Nmax, func, p=1):\n",
        "  xi = []\n",
        "  yi = []\n",
        "  ti = []\n",
        "  hi = []\n",
        "  _yi_ = []\n",
        "  y_max = []\n",
        "  _xi_ = []\n",
        "  doubling = []\n",
        "  division = []\n",
        "  ti.append(x0)\n",
        "  yi.append(y0)\n",
        "  _yi_.append(y0)\n",
        "  y_max.append(0)\n",
        "  xi.append(yy0)\n",
        "  _xi_.append(yy0)\n",
        "  hi.append(h)\n",
        "  doubling.append(0)\n",
        "  division.append(0)\n",
        "\n",
        "  i = 1\n",
        "  summa = x0\n",
        "  iter = 0\n",
        "  while(summa < xk):\n",
        "    if(ti[i-1] + h + 0.00000001 > xk):\n",
        "      h_last = round(abs(ti[i-1] - xk), 4)\n",
        "      x = xi[i-1] + h * func(ti[i-1], yi[i-1])\n",
        "      y = yi[i-1] + xi[i-1] * h\n",
        "      h_new = h/2\n",
        "      t_new = xi[i-1] + h_new\n",
        "      xi_new = xi[i-1] + h_new * func(ti[i-1], yi[i-1])\n",
        "      yi_new = yi[i-1] + xi[i-1] * h_new\n",
        "      x_ = xi_new + h_new * func(t_new, yi_new)\n",
        "      y_ = yi_new + xi_new * h_new\n",
        "      ti.append(ti[i-1] + h)\n",
        "      xi.append(x)\n",
        "      yi.append(y)\n",
        "      hi.append(h)\n",
        "      _xi_.append(x_)\n",
        "      _yi_.append(y_)\n",
        "      y_max.append(abs(y - y_))\n",
        "      summa += h_last\n",
        "      doubling.append(0)\n",
        "      division.append(0)\n",
        "      iter += 1\n",
        "      break\n",
        "\n",
        "    flag = True\n",
        "    div = 0\n",
        "    doub = 0\n",
        "    while(flag):\n",
        "      x = xi[i-1] + h * func(ti[i-1], yi[i-1])\n",
        "      y = yi[i-1] + xi[i-1] * h\n",
        "      h_new = h/2\n",
        "      t_new = xi[i-1] + h_new\n",
        "      xi_new = xi[i-1] + h_new * func(ti[i-1], yi[i-1])\n",
        "      yi_new = yi[i-1] + xi[i-1] * h_new\n",
        "      x_ = xi_new + h_new * func(t_new, yi_new)\n",
        "      y_ = yi_new + xi_new * h_new\n",
        "      S = (y_ - y) / (2**p - 1)\n",
        "      if(eps/(2**(p+1)) <= abs(S) <= eps):\n",
        "        ti.append(ti[i-1] + h)\n",
        "        xi.append(x)\n",
        "        yi.append(y)\n",
        "        hi.append(h)\n",
        "        _xi_.append(x_)\n",
        "        _yi_.append(y_)\n",
        "        y_max.append(abs(y - y_))\n",
        "        summa += h\n",
        "        flag = False\n",
        "      elif(abs(S) <= eps/(2**(p+1))):\n",
        "        h = h * 2\n",
        "        ti.append(ti[i-1] + h)\n",
        "        xi.append(x)\n",
        "        yi.append(y)\n",
        "        hi.append(h)\n",
        "        _xi_.append(x_)\n",
        "        _yi_.append(y_)\n",
        "        y_max.append(abs(y - y_))\n",
        "        doub += 1\n",
        "        summa += h\n",
        "        flag = False\n",
        "      elif(abs(S) > eps):\n",
        "        h = h/2\n",
        "        div += 1\n",
        "        continue\n",
        "\n",
        "    doubling.append(doub)\n",
        "    division.append(div)\n",
        "\n",
        "    if(iter == Nmax):\n",
        "      break\n",
        "    i += 1\n",
        "    iter += 1\n",
        "  \n",
        "  dict = {'xi':ti, 'hi':hi, 'yi':yi, '^yi':_yi_,\n",
        "          '|yi - ^yi|':y_max,\n",
        "          'Удвоение': doubling,\n",
        "          'Деление': division }\n",
        "  print(\"Справка:\")\n",
        "  print(f\"Условие задачи: y({x0})={y0}, y'({x0})={yy0} на интервале [{x0}, {xk}]\")\n",
        "  print(f\"Количество интераций: {iter}\")\n",
        "  print(f\"Максимальное значение погрешности: {max(y_max)}\")\n",
        "  print(f\"Всего удвоений: {sum(doubling)}\")\n",
        "  print(f\"Всего делений: {sum(division)}\")\n",
        "  print()\n",
        "  print(pd.DataFrame(dict))\n",
        "  print()\n",
        "  print(\"График нашего решения: \")\n",
        "\n",
        "  f2 = np.vectorize(y_exact)\n",
        "  plt.plot(ti, yi)\n",
        "  if(iter == Nmax):\n",
        "    N = Nmax * h\n",
        "    x_ = np.arange(x0, N, h)\n",
        "    plt.plot(x_, f2(x_), label=\"Аналитическое решение\")\n",
        "  else:\n",
        "    x_ = np.arange(x0, xk, h)\n",
        "    plt.plot(x_, f2(x_), label=\"Аналитическое решение\")\n",
        "  plt.plot(ti, yi, label=\"Метод Эйлера\")\n",
        "  plt.plot(ti, _yi_, label=\"Улучшенный метод Эйлера\")\n",
        "  plt.legend()\n",
        "  plt.show()\n",
        "  return ti, yi"
      ],
      "metadata": {
        "id": "TVWfh_NnDDWu"
      },
      "execution_count": null,
      "outputs": []
    },
    {
      "cell_type": "code",
      "source": [
        "ti_Euler_2p_2, yi_Euler_2p_2 = Euler_2p_2(2, 0, 0, 1, 0.001, 0.02, -1, func_2p)"
      ],
      "metadata": {
        "colab": {
          "base_uri": "https://localhost:8080/",
          "height": 664
        },
        "id": "YdIhXi8DV6kG",
        "outputId": "58162450-d74c-49c8-8176-62877263e953"
      },
      "execution_count": null,
      "outputs": [
        {
          "output_type": "stream",
          "name": "stdout",
          "text": [
            "Справка:\n",
            "Условие задачи: y(0)=2, y'(0)=0 на интервале [0, 1]\n",
            "Количество интераций: 173\n",
            "Максимальное значение погрешности: 0.0009918168728226817\n",
            "Всего удвоений: 0\n",
            "Всего делений: 3\n",
            "\n",
            "         xi      hi         yi        ^yi  |yi - ^yi|  Удвоение  Деление\n",
            "0    0.0000  0.0200   2.000000   2.000000    0.000000         0        0\n",
            "1    0.0100  0.0100   2.000000   2.000475    0.000475         0        1\n",
            "2    0.0200  0.0100   2.001900   2.002376    0.000476         0        0\n",
            "3    0.0300  0.0100   2.005703   2.006180    0.000477         0        0\n",
            "4    0.0400  0.0100   2.011414   2.011893    0.000479         0        0\n",
            "..      ...     ...        ...        ...         ...       ...      ...\n",
            "169  0.9900  0.0025  21.214034  21.214347    0.000313         0        0\n",
            "170  0.9925  0.0025  21.377802  21.378117    0.000315         0        0\n",
            "171  0.9950  0.0025  21.542830  21.543148    0.000317         0        0\n",
            "172  0.9975  0.0025  21.709128  21.709448    0.000320         0        0\n",
            "173  1.0000  0.0025  21.876705  21.877027    0.000322         0        0\n",
            "\n",
            "[174 rows x 7 columns]\n",
            "\n",
            "График нашего решения: \n"
          ]
        },
        {
          "output_type": "display_data",
          "data": {
            "text/plain": [
              "<Figure size 432x288 with 1 Axes>"
            ],
            "image/png": "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\n"
          },
          "metadata": {
            "needs_background": "light"
          }
        }
      ]
    },
    {
      "cell_type": "markdown",
      "source": [
        "Усовершенствуем функцию Рунге-Кутты 2 порядка точности для решения дифференциального уравнения 2 порядка с варьированным шагом."
      ],
      "metadata": {
        "id": "Md-pJMuRG7iZ"
      }
    },
    {
      "cell_type": "code",
      "source": [
        "def Runge_Kutta_2p_2(y0, yy0, x0, xk, eps, h, Nmax, func, p=2):\n",
        "  xi = []\n",
        "  yi = []\n",
        "  ti = []\n",
        "  hi = []\n",
        "  _yi_ = []\n",
        "  y_max = []\n",
        "  _xi_ = []\n",
        "  doubling = []\n",
        "  division = []\n",
        "  ti.append(x0)\n",
        "  yi.append(y0)\n",
        "  _yi_.append(y0)\n",
        "  y_max.append(0)\n",
        "  xi.append(yy0)\n",
        "  _xi_.append(yy0)\n",
        "  hi.append(h)\n",
        "  doubling.append(0)\n",
        "  division.append(0)\n",
        "\n",
        "  i = 1\n",
        "  summa = x0\n",
        "  iter = 0\n",
        "  while(summa < xk):\n",
        "    if(ti[i-1] + h + 0.00000001 > xk):\n",
        "      h_last = round(abs(ti[i-1] - xk), 4)\n",
        "      # x = xi[i-1] + h * func(ti[i-1], yi[i-1])\n",
        "      x = xi[i-1] + h_last/2 * (func(ti[i-1], yi[i-1]) + func(ti[i-1] + h_last, yi[i-1] + h_last*func(ti[i-1], yi[i-1])))\n",
        "      y = yi[i-1] + xi[i-1] * h_last\n",
        "      h_new = h_last/2\n",
        "      t_new = ti[i-1] + h_new\n",
        "      xi_new = xi[i-1] + h_new/2 * (func(ti[i-1], yi[i-1]) + func(ti[i-1] + h_new, yi[i-1] + h_new*func(ti[i-1], yi[i-1])))\n",
        "      yi_new = yi[i-1] + xi[i-1] * h_new\n",
        "      x_ = xi_new + h_new/2 * (func(t_new, yi_new) + func(t_new + h_last, yi_new + h_last*func(t_new, yi_new)))\n",
        "      y_ = yi_new + xi_new * h_new\n",
        "      ti.append(ti[i-1] + h)\n",
        "      xi.append(x)\n",
        "      yi.append(y)\n",
        "      hi.append(h)\n",
        "      _xi_.append(x_)\n",
        "      _yi_.append(y_)\n",
        "      y_max.append(abs(y - y_))\n",
        "      summa += h_last\n",
        "      doubling.append(0)\n",
        "      division.append(0)\n",
        "      iter += 1\n",
        "      break\n",
        "\n",
        "    flag = True\n",
        "    div = 0\n",
        "    doub = 0\n",
        "    while(flag):\n",
        "      x = xi[i-1] + h/2 * (func(ti[i-1], yi[i-1]) + func(ti[i-1] + h, yi[i-1] + h*func(ti[i-1], yi[i-1])))\n",
        "      y = yi[i-1] + xi[i-1] * h\n",
        "      h_new = h/2\n",
        "      t_new = ti[i-1] + h_new\n",
        "      xi_new = xi[i-1] + h_new/2 * (func(ti[i-1], yi[i-1]) + func(ti[i-1] + h_new, yi[i-1] + h_new*func(ti[i-1], yi[i-1])))\n",
        "      yi_new = yi[i-1] + xi[i-1] * h_new\n",
        "      x_ = xi_new + h_new/2 * (func(t_new, yi_new) + func(t_new + h_new, yi_new + h_new*func(t_new, yi_new)))\n",
        "      y_ = yi_new + xi_new * h_new\n",
        "      S = (y_ - y) / (2**p - 1)\n",
        "      if(eps/(2**(p+1)) <= abs(S) <= eps):\n",
        "        ti.append(ti[i-1] + h)\n",
        "        xi.append(x)\n",
        "        yi.append(y)\n",
        "        hi.append(h)\n",
        "        _xi_.append(x_)\n",
        "        _yi_.append(y_)\n",
        "        y_max.append(abs(y - y_))\n",
        "        summa += h\n",
        "        flag = False\n",
        "      elif(abs(S) <= eps/(2**(p+1))):\n",
        "        h = h * 2\n",
        "        ti.append(ti[i-1] + h)\n",
        "        xi.append(x)\n",
        "        yi.append(y)\n",
        "        hi.append(h)\n",
        "        _xi_.append(x_)\n",
        "        _yi_.append(y_)\n",
        "        y_max.append(abs(y - y_))\n",
        "        doub += 1\n",
        "        summa += h\n",
        "        flag = False\n",
        "      elif(abs(S) > eps):\n",
        "        h = h/2\n",
        "        div += 1\n",
        "        continue\n",
        "\n",
        "    doubling.append(doub)\n",
        "    division.append(div)\n",
        "\n",
        "    if(iter == Nmax):\n",
        "      break\n",
        "    i += 1\n",
        "    iter += 1\n",
        "  \n",
        "  dict = {'xi':ti, 'hi':hi, 'yi':yi, '^yi':_yi_,\n",
        "          '|yi - ^yi|':y_max,\n",
        "          'Удвоение': doubling,\n",
        "          'Деление': division }\n",
        "  print(\"Справка:\")\n",
        "  print(f\"Условие задачи: y({x0})={y0}, y'({x0})={yy0} на интервале [{x0}, {xk}]\")\n",
        "  print(f\"Количество интераций: {iter}\")\n",
        "  print(f\"Максимальное значение погрешности: {max(y_max)}\")\n",
        "  print(f\"Всего удвоений: {sum(doubling)}\")\n",
        "  print(f\"Всего делений: {sum(division)}\")\n",
        "  print()\n",
        "  print(pd.DataFrame(dict))\n",
        "  print()\n",
        "  print(\"График нашего решения: \")\n",
        "\n",
        "  f2 = np.vectorize(y_exact)\n",
        "  plt.plot(ti, yi)\n",
        "  if(iter == Nmax):\n",
        "    N = Nmax * h\n",
        "    x_ = np.arange(x0, N, h)\n",
        "    plt.plot(x_, f2(x_), label=\"Аналитическое решение\")\n",
        "  else:\n",
        "    x_ = np.arange(x0, xk, h)\n",
        "    plt.plot(x_, f2(x_), label=\"Аналитическое решение\")\n",
        "  plt.plot(ti, yi, label=\"Метод Рунге-Кутты 2 порядка\")\n",
        "  plt.plot(ti, _yi_, label=\"Улучшенный метод Рунге-Кутты 2 порядка\")\n",
        "  plt.legend()\n",
        "  plt.show()\n",
        "  return ti, yi"
      ],
      "metadata": {
        "id": "5DtfxJD1HCg5"
      },
      "execution_count": null,
      "outputs": []
    },
    {
      "cell_type": "code",
      "source": [
        "ti_RK_2p_2, yi_RK_2p_2 = Runge_Kutta_2p_2(2, 0, 0, 1, 0.001, 0.02, -1, func_2p)"
      ],
      "metadata": {
        "colab": {
          "base_uri": "https://localhost:8080/",
          "height": 664
        },
        "id": "PVWLLlmXMf7E",
        "outputId": "aaef0982-c824-494e-df05-b3d61d4f4d35"
      },
      "execution_count": null,
      "outputs": [
        {
          "output_type": "stream",
          "name": "stdout",
          "text": [
            "Справка:\n",
            "Условие задачи: y(0)=2, y'(0)=0 на интервале [0, 1]\n",
            "Количество интераций: 105\n",
            "Максимальное значение погрешности: 0.002991886415451006\n",
            "Всего удвоений: 0\n",
            "Всего делений: 2\n",
            "\n",
            "        xi     hi         yi        ^yi  |yi - ^yi|  Удвоение  Деление\n",
            "0    0.000  0.020   2.000000   2.000000    0.000000         0        0\n",
            "1    0.020  0.020   2.000000   2.001987    0.001987         0        0\n",
            "2    0.040  0.020   2.008296   2.010290    0.001994         0        0\n",
            "3    0.060  0.020   2.024917   2.026925    0.002008         0        0\n",
            "4    0.080  0.020   2.049922   2.051953    0.002031         0        0\n",
            "..     ...    ...        ...        ...         ...       ...      ...\n",
            "101  0.980  0.005  21.989358  21.990656    0.001298         0        0\n",
            "102  0.985  0.005  22.333685  22.335002    0.001318         0        0\n",
            "103  0.990  0.005  22.683341  22.684679    0.001338         0        0\n",
            "104  0.995  0.005  23.038408  23.039766    0.001358         0        0\n",
            "105  1.000  0.005  23.398968  23.400347    0.001379         0        0\n",
            "\n",
            "[106 rows x 7 columns]\n",
            "\n",
            "График нашего решения: \n"
          ]
        },
        {
          "output_type": "display_data",
          "data": {
            "text/plain": [
              "<Figure size 432x288 with 1 Axes>"
            ],
            "image/png": "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\n"
          },
          "metadata": {
            "needs_background": "light"
          }
        }
      ]
    },
    {
      "cell_type": "markdown",
      "source": [
        "Усовершенствуем функцию Рунге-Кутты 4 порядка точности для решения дифференциального уравнения 2 порядка с варьированным шагом."
      ],
      "metadata": {
        "id": "rPcNchsLpIIY"
      }
    },
    {
      "cell_type": "code",
      "source": [
        "def Runge_Kutta_2p_2(y0, yy0, x0, xk, eps, h, Nmax, func, p=4):\n",
        "  xi = []\n",
        "  yi = []\n",
        "  ti = []\n",
        "  hi = []\n",
        "  _yi_ = []\n",
        "  y_max = []\n",
        "  _xi_ = []\n",
        "  doubling = []\n",
        "  division = []\n",
        "  ti.append(x0)\n",
        "  yi.append(y0)\n",
        "  _yi_.append(y0)\n",
        "  y_max.append(0)\n",
        "  xi.append(yy0)\n",
        "  _xi_.append(yy0)\n",
        "  hi.append(h)\n",
        "  doubling.append(0)\n",
        "  division.append(0)\n",
        "\n",
        "  i = 1\n",
        "  summa = x0\n",
        "  iter = 0\n",
        "  while(summa < xk):\n",
        "    if(ti[i-1] + h + 0.00000001 > xk):\n",
        "      h_last = round(abs(ti[i-1] - xk), 4)\n",
        "      k1 = func(ti[i-1], yi[i-1])\n",
        "      k2 = func(ti[i-1] + h_last/2, yi[i-1] + h_last/2*k1)\n",
        "      k3 = func(ti[i-1] + h_last/2, yi[i-1] + h_last/2*k2)\n",
        "      k4 = func(ti[i-1] + h_last, yi[i-1] + h_last*k3)\n",
        "      x = xi[i-1] + h_last/6*(k1 + 2*k2 + 2*k3 + k4)\n",
        "      k1 = h_last * xi[i-1]\n",
        "      k2 = h_last * (xi[i-1] + k1/2)\n",
        "      k3 = h_last * (xi[i-1] + k2/2)\n",
        "      k4 = h_last * (xi[i-1] + k3/2)\n",
        "      y = yi[i-1] + 1/6*(k1 + 2*k2 + 2*k3 + k4)\n",
        "\n",
        "      #Считаем погрешность и разницу \n",
        "      h_new = h/2\n",
        "      t_new = xi[i-1] + h_new\n",
        "      k1 = func(ti[i-1], yi[i-1])\n",
        "      k2 = func(ti[i-1] + h_new/2, yi[i-1] + h_new/2*k1)\n",
        "      k3 = func(ti[i-1] + h_new/2, yi[i-1] + h_new/2*k2)\n",
        "      k4 = func(ti[i-1] + h_new, yi[i-1] + h_new*k3)\n",
        "      xi_new = xi[i-1] + h_new/6*(k1 + 2*k2 + 2*k3 + k4)\n",
        "      k1 = h_new * xi[i-1]\n",
        "      k2 = h_new * (xi[i-1] + k1/2)\n",
        "      k3 = h_new * (xi[i-1] + k2/2)\n",
        "      k4 = h_new * (xi[i-1] + k3/2)\n",
        "      yi_new = yi[i-1] + 1/6*(k1 + 2*k2 + 2*k3 + k4)\n",
        "\n",
        "      k1 = func(t_new, yi_new)\n",
        "      k2 = func(t_new + h_new/2, yi_new + h_new/2*k1)\n",
        "      k3 = func(t_new + h_new/2, yi_new + h_new/2*k2)\n",
        "      k4 = func(t_new + h_new, yi_new + h_new*k3)\n",
        "      x_ = xi_new + h_new/6*(k1 + 2*k2 + 2*k3 + k4)\n",
        "      k1 = h_new * xi_new\n",
        "      k2 = h_new * (xi_new + k1/2)\n",
        "      k3 = h_new * (xi_new + k2/2)\n",
        "      k4 = h_new * (xi_new + k3/2)\n",
        "      y_ = yi_new + 1/6*(k1 + 2*k2 + 2*k3 + k4)\n",
        "\n",
        "      ti.append(ti[i-1] + h)\n",
        "      xi.append(x)\n",
        "      yi.append(y)\n",
        "      hi.append(h)\n",
        "      _xi_.append(x_)\n",
        "      _yi_.append(y_)\n",
        "      y_max.append(abs(y - y_))\n",
        "      summa += h_last\n",
        "      doubling.append(0)\n",
        "      division.append(0)\n",
        "      iter += 1\n",
        "      break\n",
        "\n",
        "    flag = True\n",
        "    div = 0\n",
        "    doub = 0\n",
        "    while(flag):\n",
        "      k1 = func(ti[i-1], yi[i-1])\n",
        "      k2 = func(ti[i-1] + h/2, yi[i-1] + h/2*k1)\n",
        "      k3 = func(ti[i-1] + h/2, yi[i-1] + h/2*k2)\n",
        "      k4 = func(ti[i-1] + h, yi[i-1] + h*k3)\n",
        "      x = xi[i-1] + h/6*(k1 + 2*k2 + 2*k3 + k4)\n",
        "      k1 = h * xi[i-1]\n",
        "      k2 = h * (xi[i-1] + k1/2)\n",
        "      k3 = h * (xi[i-1] + k2/2)\n",
        "      k4 = h * (xi[i-1] + k3/2)\n",
        "      y = yi[i-1] + 1/6*(k1 + 2*k2 + 2*k3 + k4)\n",
        "\n",
        "      #Считаем погрешность и разницу \n",
        "      h_new = h/2\n",
        "      t_new = xi[i-1] + h_new\n",
        "      k1 = func(ti[i-1], yi[i-1])\n",
        "      k2 = func(ti[i-1] + h_new/2, yi[i-1] + h_new/2*k1)\n",
        "      k3 = func(ti[i-1] + h_new/2, yi[i-1] + h_new/2*k2)\n",
        "      k4 = func(ti[i-1] + h_new, yi[i-1] + h_new*k3)\n",
        "      xi_new = xi[i-1] + h_new/6*(k1 + 2*k2 + 2*k3 + k4)\n",
        "      k1 = h_new * xi[i-1]\n",
        "      k2 = h_new * (xi[i-1] + k1/2)\n",
        "      k3 = h_new * (xi[i-1] + k2/2)\n",
        "      k4 = h_new * (xi[i-1] + k3/2)\n",
        "      yi_new = yi[i-1] + 1/6*(k1 + 2*k2 + 2*k3 + k4)\n",
        "\n",
        "      k1 = func(t_new, yi_new)\n",
        "      k2 = func(t_new + h_new/2, yi_new + h_new/2*k1)\n",
        "      k3 = func(t_new + h_new/2, yi_new + h_new/2*k2)\n",
        "      k4 = func(t_new + h_new, yi_new + h_new*k3)\n",
        "      x_ = xi_new + h_new/6*(k1 + 2*k2 + 2*k3 + k4)\n",
        "      k1 = h_new * xi_new\n",
        "      k2 = h_new * (xi_new + k1/2)\n",
        "      k3 = h_new * (xi_new + k2/2)\n",
        "      k4 = h_new * (xi_new + k3/2)\n",
        "      y_ = yi_new + 1/6*(k1 + 2*k2 + 2*k3 + k4)\n",
        "\n",
        "      S = (y_ - y) / (2**p - 1)\n",
        "      if(eps/(2**(p+1)) <= abs(S) <= eps):\n",
        "        ti.append(ti[i-1] + h)\n",
        "        xi.append(x)\n",
        "        yi.append(y)\n",
        "        hi.append(h)\n",
        "        _xi_.append(x_)\n",
        "        _yi_.append(y_)\n",
        "        y_max.append(abs(y - y_))\n",
        "        summa += h\n",
        "        flag = False\n",
        "      elif(abs(S) <= eps/(2**(p+1))):\n",
        "        h = h * 2\n",
        "        ti.append(ti[i-1] + h)\n",
        "        xi.append(x)\n",
        "        yi.append(y)\n",
        "        hi.append(h)\n",
        "        _xi_.append(x_)\n",
        "        _yi_.append(y_)\n",
        "        y_max.append(abs(y - y_))\n",
        "        doub += 1\n",
        "        summa += h\n",
        "        flag = False\n",
        "      elif(abs(S) > eps):\n",
        "        h = h/2\n",
        "        div += 1\n",
        "        continue\n",
        "\n",
        "    doubling.append(doub)\n",
        "    division.append(div)\n",
        "\n",
        "    if(iter == Nmax):\n",
        "      break\n",
        "    i += 1\n",
        "    iter += 1\n",
        "  \n",
        "  dict = {'xi':ti, 'hi':hi, 'yi':yi, '^yi':_yi_,\n",
        "          '|yi - ^yi|':y_max,\n",
        "          'Удвоение': doubling,\n",
        "          'Деление': division }\n",
        "  print(\"Справка:\")\n",
        "  print(f\"Условие задачи: y({x0})={y0}, y'({x0})={yy0} на интервале [{x0}, {xk}]\")\n",
        "  print(f\"Количество интераций: {iter}\")\n",
        "  print(f\"Максимальное значение погрешности: {max(y_max)}\")\n",
        "  print(f\"Всего удвоений: {sum(doubling)}\")\n",
        "  print(f\"Всего делений: {sum(division)}\")\n",
        "  print()\n",
        "  print(pd.DataFrame(dict))\n",
        "  print()\n",
        "  print(\"График нашего решения: \")\n",
        "\n",
        "  f2 = np.vectorize(y_exact)\n",
        "  plt.plot(ti, yi)\n",
        "  if(iter == Nmax):\n",
        "    N = Nmax * h\n",
        "    x_ = np.arange(x0, N, h)\n",
        "    plt.plot(x_, f2(x_), label=\"Аналитическое решение\")\n",
        "  else:\n",
        "    x_ = np.arange(x0, xk, h)\n",
        "    plt.plot(x_, f2(x_), label=\"Аналитическое решение\")\n",
        "  plt.plot(ti, yi, label=\"Метод Рунге-Кутты 4 порядка\")\n",
        "  plt.plot(ti, _yi_, label=\"Улучшенный метод Рунге-Кутты 4 порядка\")\n",
        "  plt.legend()\n",
        "  plt.show()\n",
        "  return ti, yi"
      ],
      "metadata": {
        "id": "nLuXL0mNpObt"
      },
      "execution_count": null,
      "outputs": []
    },
    {
      "cell_type": "code",
      "source": [
        "ti_RK_4p_2, yi_RK_4p_2 = Runge_Kutta_2p_2(2, 0, 0, 1, 0.001, 0.02, -1, func_2p)"
      ],
      "metadata": {
        "colab": {
          "base_uri": "https://localhost:8080/",
          "height": 1362
        },
        "id": "5KgRT6ohsvnI",
        "outputId": "3f2e2b30-520e-49bf-e117-4de516f203e0"
      },
      "execution_count": null,
      "outputs": [
        {
          "output_type": "stream",
          "name": "stdout",
          "text": [
            "Справка:\n",
            "Условие задачи: y(0)=2, y'(0)=0 на интервале [0, 1]\n",
            "Количество интераций: 52\n",
            "Максимальное значение погрешности: 0.01440772833899473\n",
            "Всего удвоений: 0\n",
            "Всего делений: 1\n",
            "\n",
            "      xi    hi         yi        ^yi  |yi - ^yi|  Удвоение  Деление\n",
            "0   0.00  0.02   2.000000   2.000000    0.000000         0        0\n",
            "1   0.02  0.02   2.000000   2.001998    0.001998         0        0\n",
            "2   0.04  0.02   2.008410   2.010379    0.001969         0        0\n",
            "3   0.06  0.02   2.025257   2.027206    0.001949         0        0\n",
            "4   0.08  0.02   2.050605   2.052542    0.001937         0        0\n",
            "5   0.10  0.02   2.084552   2.086485    0.001933         0        0\n",
            "6   0.12  0.02   2.127231   2.129168    0.001937         0        0\n",
            "7   0.14  0.02   2.178812   2.180760    0.001948         0        0\n",
            "8   0.16  0.02   2.239500   2.241468    0.001968         0        0\n",
            "9   0.18  0.02   2.309539   2.311535    0.001996         0        0\n",
            "10  0.20  0.02   2.389210   2.391242    0.002032         0        0\n",
            "11  0.22  0.02   2.478834   2.480910    0.002076         0        0\n",
            "12  0.24  0.02   2.578771   2.580900    0.002129         0        0\n",
            "13  0.26  0.02   2.689425   2.691615    0.002190         0        0\n",
            "14  0.28  0.02   2.811242   2.813502    0.002260         0        0\n",
            "15  0.30  0.02   2.944712   2.947052    0.002339         0        0\n",
            "16  0.32  0.02   3.090374   3.092802    0.002428         0        0\n",
            "17  0.34  0.02   3.248814   3.251340    0.002526         0        0\n",
            "18  0.36  0.02   3.420670   3.423304    0.002634         0        0\n",
            "19  0.38  0.02   3.606633   3.609386    0.002753         0        0\n",
            "20  0.40  0.02   3.807451   3.810334    0.002882         0        0\n",
            "21  0.42  0.02   4.023930   4.026954    0.003023         0        0\n",
            "22  0.44  0.02   4.256939   4.260115    0.003176         0        0\n",
            "23  0.46  0.02   4.507410   4.510752    0.003342         0        0\n",
            "24  0.48  0.02   4.776347   4.779867    0.003520         0        0\n",
            "25  0.50  0.02   5.064824   5.068536    0.003712         0        0\n",
            "26  0.52  0.02   5.373993   5.377912    0.003919         0        0\n",
            "27  0.54  0.02   5.705087   5.709228    0.004141         0        0\n",
            "28  0.56  0.02   6.059425   6.063803    0.004379         0        0\n",
            "29  0.58  0.02   6.438414   6.443047    0.004633         0        0\n",
            "30  0.60  0.02   6.843559   6.848465    0.004906         0        0\n",
            "31  0.62  0.02   7.276467   7.281664    0.005198         0        0\n",
            "32  0.64  0.02   7.738851   7.744360    0.005509         0        0\n",
            "33  0.66  0.02   8.232539   8.238380    0.005841         0        0\n",
            "34  0.68  0.02   8.759478   8.765674    0.006196         0        0\n",
            "35  0.70  0.02   9.321745   9.328319    0.006575         0        0\n",
            "36  0.72  0.02   9.921551   9.928529    0.006978         0        0\n",
            "37  0.74  0.02  10.561252  10.568659    0.007408         0        0\n",
            "38  0.76  0.02  11.243355  11.251221    0.007865         0        0\n",
            "39  0.78  0.02  11.970531  11.978884    0.008353         0        0\n",
            "40  0.80  0.02  12.745620  12.754492    0.008872         0        0\n",
            "41  0.82  0.02  13.571646  13.581070    0.009424         0        0\n",
            "42  0.84  0.02  14.451826  14.461837    0.010012         0        0\n",
            "43  0.86  0.02  15.389580  15.400217    0.010637         0        0\n",
            "44  0.88  0.02  16.388549  16.399850    0.011301         0        0\n",
            "45  0.90  0.02  17.452600  17.464609    0.012008         0        0\n",
            "46  0.92  0.02  18.585850  18.598610    0.012760         0        0\n",
            "47  0.94  0.02  19.792672  19.806231    0.013559         0        0\n",
            "48  0.96  0.02  21.077717  21.092125    0.014408         0        0\n",
            "49  0.97  0.01  21.758969  21.762673    0.003704         0        1\n",
            "50  0.98  0.01  22.461236  22.465058    0.003821         0        0\n",
            "51  0.99  0.01  23.185179  23.189121    0.003942         0        0\n",
            "52  1.00  0.01  23.931478  23.935545    0.004067         0        0\n",
            "\n",
            "График нашего решения: \n"
          ]
        },
        {
          "output_type": "display_data",
          "data": {
            "text/plain": [
              "<Figure size 432x288 with 1 Axes>"
            ],
            "image/png": "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\n"
          },
          "metadata": {
            "needs_background": "light"
          }
        }
      ]
    },
    {
      "cell_type": "markdown",
      "source": [
        "Сравним полученное решение метода Эйлера, метода Рунге-Кутты 2 порядка и метода Рунге-Кутты 4 порядка точности для дифференциального уравнения 2 порядка с варьированным шагом."
      ],
      "metadata": {
        "id": "jlyBHLHrNF6s"
      }
    },
    {
      "cell_type": "code",
      "source": [
        "f2 = np.vectorize(y_exact)\n",
        "x_ = np.arange(0, 1, 0.02)\n",
        "plt.plot(x_, f2(x_), label=\"Аналитическое решение\")\n",
        "plt.plot(ti_Euler_2p_2, yi_Euler_2p_2, label=\"Метод Эйлера\")\n",
        "plt.plot(ti_RK_2p_2, yi_RK_2p_2, label=\"Метод Рунге-Кутты 2 порядка\")\n",
        "plt.plot(ti_RK_4p_2, yi_RK_4p_2, label=\"Метод Рунге-Кутты 4 порядка\")\n",
        "plt.legend()\n",
        "plt.show()"
      ],
      "metadata": {
        "colab": {
          "base_uri": "https://localhost:8080/",
          "height": 269
        },
        "id": "59uwqFTyNW2e",
        "outputId": "99a31c95-0c0d-4be8-9146-ded37df8ff4e"
      },
      "execution_count": null,
      "outputs": [
        {
          "output_type": "display_data",
          "data": {
            "text/plain": [
              "<Figure size 432x288 with 1 Axes>"
            ],
            "image/png": "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\n"
          },
          "metadata": {
            "needs_background": "light"
          }
        }
      ]
    },
    {
      "cell_type": "markdown",
      "source": [
        "С варьированным шагом метод Эйлера повёл себя лучше, чем с поятоянным шагом и максимально приблизился к аналитическому решению. А методы Рунге-Кутты 2 и 4 порядков наоборот показали себя чуть хуже."
      ],
      "metadata": {
        "id": "yB4XiHxySWEM"
      }
    }
  ]
}
